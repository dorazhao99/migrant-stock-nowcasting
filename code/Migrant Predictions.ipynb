{
 "cells": [
  {
   "cell_type": "code",
   "execution_count": 1,
   "metadata": {},
   "outputs": [],
   "source": [
    "from sklearn.ensemble import RandomForestRegressor, AdaBoostRegressor\n",
    "from sklearn.linear_model import LinearRegression\n",
    "from xgboost import XGBRegressor\n",
    "from sklearn.model_selection import train_test_split\n",
    "import csv\n",
    "import pandas as pd\n",
    "import numpy as np"
   ]
  },
  {
   "cell_type": "code",
   "execution_count": 2,
   "metadata": {},
   "outputs": [],
   "source": [
    "def MAPE(y_true, y_pred): \n",
    "    return np.mean(np.abs((y_true - y_pred) / y_true)) * 100"
   ]
  },
  {
   "cell_type": "code",
   "execution_count": 3,
   "metadata": {},
   "outputs": [],
   "source": [
    "def run_all_models(X_train, X_test, y_train, y_test):\n",
    "    # random forest\n",
    "    rf_regr = RandomForestRegressor(max_depth=depth, random_state=random, criterion=\"mae\")\n",
    "    rf_regr.fit(X_train, y_train)\n",
    "    y_pred = rf_regr.predict(X_test)\n",
    "    rf_mape = MAPE(y_test, y_pred)\n",
    "    print('Random Forests MAPE: {0}'.format(rf_mape))\n",
    "    \n",
    "    # adaboost \n",
    "    ada_regr = AdaBoostRegressor(random_state=random)\n",
    "    ada_regr.fit(X_train, y_train)\n",
    "    y_pred = ada_regr.predict(X_test)\n",
    "    ada_mape = MAPE(y_test, y_pred)\n",
    "    print('AdaBoost MAPE: {0}'.format(MAPE(y_test, y_pred)))\n",
    "    \n",
    "    # xgboost\n",
    "    xg_regr = XGBRegressor(random_state=random)\n",
    "    xg_regr.fit(X_train, y_train)\n",
    "    y_pred = xg_regr.predict(X_test)\n",
    "    xg_mape = MAPE(y_test, y_pred)\n",
    "    print('XGBoost MAPE: {0}'.format(MAPE(y_test, y_pred)))\n",
    "    \n",
    "    # linear regression\n",
    "    lin_reg = LinearRegression()\n",
    "    lin_reg.fit(X_train, y_train)\n",
    "    y_pred = lin_reg.predict(X_test)\n",
    "    lin_mape = MAPE(y_test, y_pred)\n",
    "    print('Linear Regression MAPE: {0}'.format(MAPE(y_test, y_pred)))\n",
    "    \n",
    "    return (rf_mape, ada_mape, xg_mape, lin_mape)"
   ]
  },
  {
   "cell_type": "code",
   "execution_count": 4,
   "metadata": {},
   "outputs": [],
   "source": [
    "def gen_splits(fb_df, variables = []):\n",
    "    predictors = fb_df[variables].values if variables != []\\\n",
    "        else fb_df.values [:, 2:176]\n",
    "    gt = fb_df['migrant_2019'].values\n",
    "    \n",
    "    high_predictors = predictors[fb_df['development_lvl'] == 1]\n",
    "    high_gt = gt[fb_df['development_lvl'] == 1]\n",
    "    low_predictors = predictors[fb_df['development_lvl'] == 0]\n",
    "    low_gt = gt[fb_df['development_lvl'] == 0]\n",
    "    \n",
    "    splits = dict()\n",
    "    # 1. Randomly sample from all countries for training and test sets.\n",
    "    splits[\"random_all\"] = train_test_split(predictors, gt, test_size=0.2, random_state=42)\n",
    "    # 2. Train more developed, test less developed\n",
    "    splits[\"train_high_test_low\"] = (high_predictors, low_predictors, high_gt, low_gt)\n",
    "    # 3. Train less developed, test more developed\n",
    "    splits[\"train_low_test_high\"] = (low_predictors, high_predictors, low_gt, high_gt)\n",
    "    # 4. Randomly sample high for train+test\n",
    "    splits[\"train_test_high\"] = train_test_split(high_predictors, high_gt, test_size=0.2, random_state=42)\n",
    "    # 5. Randomly sample low for train+test\n",
    "    splits[\"train_test_low\"] = train_test_split(low_predictors, low_gt, test_size=0.2, random_state=42)\n",
    "\n",
    "    return splits"
   ]
  },
  {
   "cell_type": "markdown",
   "metadata": {},
   "source": [
    "## Data Setup"
   ]
  },
  {
   "cell_type": "code",
   "execution_count": 5,
   "metadata": {},
   "outputs": [],
   "source": [
    "# read in UN data\n",
    "un_df = pd.read_csv('../data/UN_data_clean.csv')\n",
    "# ground truth data for all of the models\n",
    "y = np.array((un_df[(un_df['age_group'] == 'Total') & (un_df['sex'] == 'both sexes') & (un_df['year'] == 2019)]\\\n",
    "          ['migrant_pop']))"
   ]
  },
  {
   "cell_type": "code",
   "execution_count": 6,
   "metadata": {},
   "outputs": [],
   "source": [
    "# read in combined fb_un_data\n",
    "fb_df = pd.read_csv('../data/facebook_un_combined.csv')\n",
    "predictors = fb_df.values [:, 2:176]\n",
    "gt = fb_df['migrant_2019'].values"
   ]
  },
  {
   "cell_type": "code",
   "execution_count": 7,
   "metadata": {},
   "outputs": [],
   "source": [
    "# hyperparameters\n",
    "depth = 5\n",
    "random = 0"
   ]
  },
  {
   "cell_type": "markdown",
   "metadata": {},
   "source": [
    "### Simple Autoregressive Model"
   ]
  },
  {
   "cell_type": "code",
   "execution_count": 8,
   "metadata": {},
   "outputs": [
    {
     "name": "stdout",
     "output_type": "stream",
     "text": [
      "random_all: \n",
      "Random Forests MAPE: 71.33136130546714\n",
      "AdaBoost MAPE: 1019.2923295687892\n",
      "XGBoost MAPE: 97.84671343298231\n",
      "Linear Regression MAPE: 151.72909609399267\n",
      "\n",
      "\n",
      "train_high_test_low: \n",
      "Random Forests MAPE: 187.43006888075092\n",
      "AdaBoost MAPE: 1686.8104041058689\n",
      "XGBoost MAPE: 86.7446402455189\n",
      "Linear Regression MAPE: 156.3394614308411\n",
      "\n",
      "\n",
      "train_low_test_high: \n",
      "Random Forests MAPE: 21.11290759065284\n",
      "AdaBoost MAPE: 60.22851360465323\n",
      "XGBoost MAPE: 33.140751780837704\n",
      "Linear Regression MAPE: 10.594680463374175\n",
      "\n",
      "\n",
      "train_test_high: \n",
      "Random Forests MAPE: 28.043011707889832\n",
      "AdaBoost MAPE: 187.8523339156974\n",
      "XGBoost MAPE: 17.84754278247097\n",
      "Linear Regression MAPE: 45.730820988835234\n",
      "\n",
      "\n",
      "train_test_low: \n",
      "Random Forests MAPE: 34.36779482716031\n",
      "AdaBoost MAPE: 206.8315612121729\n",
      "XGBoost MAPE: 36.9743836423685\n",
      "Linear Regression MAPE: 38.37765286358955\n",
      "\n",
      "\n"
     ]
    }
   ],
   "source": [
    "splits = gen_splits(fb_df, ['un_total_age16_2017', 'un_total_age16_2015'])\n",
    "\n",
    "for (k, v) in splits.items():\n",
    "    print(k + \": \")\n",
    "    run_all_models(*v);\n",
    "    print(\"\\n\")"
   ]
  },
  {
   "cell_type": "markdown",
   "metadata": {},
   "source": [
    "### Facebook Naive"
   ]
  },
  {
   "cell_type": "code",
   "execution_count": 9,
   "metadata": {},
   "outputs": [
    {
     "name": "stdout",
     "output_type": "stream",
     "text": [
      "random_all: \n",
      "Random Forests MAPE: 348.70714684882535\n",
      "AdaBoost MAPE: 888.4393378179258\n",
      "XGBoost MAPE: 426.13142616259444\n",
      "Linear Regression MAPE: 269.78360941092535\n",
      "\n",
      "\n",
      "train_high_test_low: \n",
      "Random Forests MAPE: 611.1168531634244\n",
      "AdaBoost MAPE: 1400.859476109096\n",
      "XGBoost MAPE: 684.7433680143762\n",
      "Linear Regression MAPE: 1761.7375273485504\n",
      "\n",
      "\n",
      "train_low_test_high: \n",
      "Random Forests MAPE: 56.59768649117039\n",
      "AdaBoost MAPE: 61.56077996833701\n",
      "XGBoost MAPE: 83.58140511473168\n",
      "Linear Regression MAPE: 54.76032061494285\n",
      "\n",
      "\n",
      "train_test_high: \n",
      "Random Forests MAPE: 79.7654064330622\n",
      "AdaBoost MAPE: 227.73975787227755\n",
      "XGBoost MAPE: 91.80655730869547\n",
      "Linear Regression MAPE: 390.1946489712339\n",
      "\n",
      "\n",
      "train_test_low: \n",
      "Random Forests MAPE: 177.57912920121865\n",
      "AdaBoost MAPE: 846.678573883217\n",
      "XGBoost MAPE: 222.40821344474656\n",
      "Linear Regression MAPE: 213.36878690131687\n",
      "\n",
      "\n"
     ]
    }
   ],
   "source": [
    "splits = gen_splits(fb_df, ['total_expat'])\n",
    "\n",
    "for (k, v) in splits.items():\n",
    "    print(k + \": \")\n",
    "    run_all_models(*v);\n",
    "    print(\"\\n\")"
   ]
  },
  {
   "cell_type": "markdown",
   "metadata": {},
   "source": [
    "### Autoregressive + Facebook Expats"
   ]
  },
  {
   "cell_type": "code",
   "execution_count": 10,
   "metadata": {},
   "outputs": [
    {
     "name": "stdout",
     "output_type": "stream",
     "text": [
      "random_all: \n",
      "Random Forests MAPE: 71.61149099901387\n",
      "AdaBoost MAPE: 1083.5296833321377\n",
      "XGBoost MAPE: 36.29133918555385\n",
      "Linear Regression MAPE: 150.97892702706264\n",
      "\n",
      "\n",
      "train_high_test_low: \n",
      "Random Forests MAPE: 230.39012332790995\n",
      "AdaBoost MAPE: 1522.7518734105695\n",
      "XGBoost MAPE: 78.14617697321175\n",
      "Linear Regression MAPE: 162.4662293161901\n",
      "\n",
      "\n",
      "train_low_test_high: \n",
      "Random Forests MAPE: 17.961354221235315\n",
      "AdaBoost MAPE: 54.11590006099739\n",
      "XGBoost MAPE: 16.083118778397367\n",
      "Linear Regression MAPE: 7.746618219509357\n",
      "\n",
      "\n",
      "train_test_high: \n",
      "Random Forests MAPE: 25.43740550267321\n",
      "AdaBoost MAPE: 182.69764155170546\n",
      "XGBoost MAPE: 17.831190010067804\n",
      "Linear Regression MAPE: 46.55748528694383\n",
      "\n",
      "\n",
      "train_test_low: \n",
      "Random Forests MAPE: 33.19926722075143\n",
      "AdaBoost MAPE: 668.4759156947622\n",
      "XGBoost MAPE: 28.273864858508883\n",
      "Linear Regression MAPE: 17.876274819838788\n",
      "\n",
      "\n"
     ]
    }
   ],
   "source": [
    "splits = gen_splits(fb_df, ['un_total_age16_2017', 'un_total_age16_2015', 'total_expat'])\n",
    "\n",
    "for (k, v) in splits.items():\n",
    "    print(k + \": \")\n",
    "    run_all_models(*v);\n",
    "    print(\"\\n\")"
   ]
  },
  {
   "cell_type": "markdown",
   "metadata": {},
   "source": [
    "### All Predictors"
   ]
  },
  {
   "cell_type": "code",
   "execution_count": 11,
   "metadata": {},
   "outputs": [
    {
     "name": "stdout",
     "output_type": "stream",
     "text": [
      "random_all: \n",
      "Random Forests MAPE: 61.589010233630226\n",
      "AdaBoost MAPE: 965.4561789541841\n",
      "XGBoost MAPE: 33.92179632750849\n",
      "Linear Regression MAPE: 215.80557871035748\n",
      "\n",
      "\n",
      "train_high_test_low: \n",
      "Random Forests MAPE: 282.5294440392145\n",
      "AdaBoost MAPE: 1797.6870697866514\n",
      "XGBoost MAPE: 704.0039708009618\n",
      "Linear Regression MAPE: 170.53307487428418\n",
      "\n",
      "\n",
      "train_low_test_high: \n",
      "Random Forests MAPE: 26.89340114021601\n",
      "AdaBoost MAPE: 68.45963773775752\n",
      "XGBoost MAPE: 17.56113062595195\n",
      "Linear Regression MAPE: 88.52737451226204\n",
      "\n",
      "\n",
      "train_test_high: \n",
      "Random Forests MAPE: 39.753435909849365\n",
      "AdaBoost MAPE: 261.4141716815693\n",
      "XGBoost MAPE: 41.91173028385944\n",
      "Linear Regression MAPE: 21.578171906715994\n",
      "\n",
      "\n",
      "train_test_low: \n",
      "Random Forests MAPE: 34.75389751627678\n",
      "AdaBoost MAPE: 556.2294707500852\n",
      "XGBoost MAPE: 25.411146011180303\n",
      "Linear Regression MAPE: 63.590217780048675\n",
      "\n",
      "\n"
     ]
    }
   ],
   "source": [
    "splits = gen_splits(fb_df)\n",
    "\n",
    "for (k, v) in splits.items():\n",
    "    print(k + \": \")\n",
    "    run_all_models(*v);\n",
    "    print(\"\\n\")"
   ]
  }
 ],
 "metadata": {
  "kernelspec": {
   "display_name": "Python 3",
   "language": "python",
   "name": "python3"
  },
  "language_info": {
   "codemirror_mode": {
    "name": "ipython",
    "version": 3
   },
   "file_extension": ".py",
   "mimetype": "text/x-python",
   "name": "python",
   "nbconvert_exporter": "python",
   "pygments_lexer": "ipython3",
   "version": "3.8.5"
  }
 },
 "nbformat": 4,
 "nbformat_minor": 4
}
