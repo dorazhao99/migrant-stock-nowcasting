{
 "cells": [
  {
   "cell_type": "code",
   "execution_count": 33,
   "metadata": {},
   "outputs": [],
   "source": [
    "from sklearn.ensemble import RandomForestRegressor, AdaBoostRegressor\n",
    "from sklearn.linear_model import LinearRegression\n",
    "from xgboost import XGBRegressor\n",
    "from sklearn.model_selection import train_test_split\n",
    "import csv\n",
    "import pandas as pd\n",
    "import numpy as np\n",
    "from sklearn.model_selection import KFold"
   ]
  },
  {
   "cell_type": "code",
   "execution_count": 34,
   "metadata": {},
   "outputs": [],
   "source": [
    "def MAPE(y_true, y_pred): \n",
    "    return np.mean(np.abs((y_true - y_pred) / y_true)) * 100"
   ]
  },
  {
   "cell_type": "code",
   "execution_count": 35,
   "metadata": {},
   "outputs": [],
   "source": [
    "def run_all_models(X_train, X_test, y_train, y_test, preds = False):\n",
    "    # random forest\n",
    "    rf_regr = RandomForestRegressor(max_depth=10, random_state=random, criterion=\"mae\")\n",
    "    rf_regr.fit(X_train, y_train)\n",
    "    rf_y_pred = rf_regr.predict(X_test)\n",
    "    rf_mape = MAPE(y_test, rf_y_pred)\n",
    "    #print('Random Forests MAPE: {0}'.format(rf_mape))\n",
    "\n",
    "    '''\n",
    "    # adaboost \n",
    "    ada_regr = AdaBoostRegressor(random_state=random)\n",
    "    ada_regr.fit(X_train, y_train)\n",
    "    ada_y_pred = ada_regr.predict(X_test)\n",
    "    ada_mape = MAPE(y_test, ada_y_pred)\n",
    "    #print('AdaBoost MAPE: {0}'.format(MAPE(y_test, y_pred)))\n",
    "    '''\n",
    "    \n",
    "    # xgboost\n",
    "    xg_regr = XGBRegressor(max_depth=10, learning_rate=0.01, n_estimators=300, gamma=1, random_state=random)\n",
    "    xg_regr.fit(X_train, y_train)\n",
    "    xg_y_pred = xg_regr.predict(X_test)\n",
    "    xg_mape = MAPE(y_test, xg_y_pred)\n",
    "    #print('XGBoost MAPE: {0}'.format(MAPE(y_test, y_pred)))\n",
    "    \n",
    "    # linear regression\n",
    "    lin_reg = LinearRegression()\n",
    "    lin_reg.fit(X_train, y_train)\n",
    "    lin_y_pred = lin_reg.predict(X_test)\n",
    "    lin_mape = MAPE(y_test, lin_y_pred)\n",
    "    #print('Linear Regression MAPE: {0}'.format(MAPE(y_test, y_pred)))\n",
    "    \n",
    "    if preds: return np.array([rf_mape, xg_mape, lin_mape]), [rf_y_pred, xg_y_pred, lin_y_pred]\n",
    "    \n",
    "    return np.array([rf_mape, xg_mape, lin_mape])"
   ]
  },
  {
   "cell_type": "code",
   "execution_count": 36,
   "metadata": {},
   "outputs": [],
   "source": [
    "_iso_splits = None\n",
    "def gen_splits(fb_df, variables = [], data_used = False):\n",
    "    global _iso_splits\n",
    "    if data_used:\n",
    "        variables.extend(['data_used_B', 'data_used_C', 'data_used_I', 'data_used_R', 'data_used_BR', 'data_used_CR', 'data_used_IR', 'data_used_CB', 'data_used_CBR'])\n",
    "        \n",
    "    total_columns = [col for col in fb_df.columns[2:] if '2019' not in col and '2020' not in col and ('un' in col or 'lvl' in col)]\n",
    "    predictors = fb_df[variables].values if variables != []\\\n",
    "        else fb_df[total_columns].values\n",
    "    gt = fb_df['migrant_pop_2019'].values\n",
    "    \n",
    "    high_predictors = predictors[fb_df['development_lvl'] == 1]\n",
    "    high_gt = gt[fb_df['development_lvl'] == 1]\n",
    "    low_predictors = predictors[fb_df['development_lvl'] == 0]\n",
    "    low_gt = gt[fb_df['development_lvl'] == 0]\n",
    "    \n",
    "    \n",
    "    if _iso_splits is None:\n",
    "        kf = KFold(n_splits=5, shuffle=True, random_state=42)\n",
    "        _iso_splits = dict()\n",
    "        _iso_splits[\"all\"] = list(kf.split(predictors, gt))\n",
    "        _iso_splits[\"high\"] = list(kf.split(high_predictors, high_gt))\n",
    "        _iso_splits[\"low\"] = list(kf.split(low_predictors, low_gt))\n",
    "\n",
    "    splits = dict()\n",
    "    # 1. Randomly sample from all countries for training and test sets.\n",
    "    #splits[\"random_all\"] = train_test_split(predictors, gt, test_size=0.2, random_state=42)\n",
    "    splits[\"random_all\"] = [(predictors[i], predictors[j], gt[i], gt[j]) for i, j in _iso_splits[\"all\"]]\n",
    "    # 2. Train more developed, test less developed\n",
    "    # splits[\"train_high_test_low\"] = [(high_predictors, low_predictors, high_gt, low_gt)]\n",
    "    # 3. Train less developed, test more developed\n",
    "    # splits[\"train_low_test_high\"] = [(low_predictors, high_predictors, low_gt, high_gt)]\n",
    "    # 4. Randomly sample high for train+test\n",
    "    #splits[\"train_test_high\"] = train_test_split(high_predictors, high_gt, test_size=0.2, random_state=42)\n",
    "    splits[\"train_test_high\"] = [(high_predictors[i], high_predictors[j], high_gt[i], high_gt[j]) for i, j in _iso_splits[\"high\"]]\n",
    "    # 5. Randomly sample low for train+test\n",
    "    #splits[\"train_test_low\"] = train_test_split(low_predictors, low_gt, test_size=0.2, random_state=42)\n",
    "    splits[\"train_test_low\"] = [(low_predictors[i], low_predictors[j], low_gt[i], low_gt[j]) for i, j in _iso_splits[\"low\"]]\n",
    "\n",
    "    return splits"
   ]
  },
  {
   "cell_type": "markdown",
   "metadata": {},
   "source": [
    "## Data Setup"
   ]
  },
  {
   "cell_type": "code",
   "execution_count": 37,
   "metadata": {},
   "outputs": [],
   "source": [
    "# read in UN data\n",
    "un_df = pd.read_csv('../data/UN_data_clean.csv')\n",
    "# ground truth data for all of the models\n",
    "y = np.array((un_df[(un_df['age_group'] == 'Total') & (un_df['sex'] == 'both sexes') & (un_df['year'] == 2019)]\\\n",
    "          ['migrant_pop']))"
   ]
  },
  {
   "cell_type": "code",
   "execution_count": 38,
   "metadata": {},
   "outputs": [],
   "source": [
    "# read in combined fb_un_data\n",
    "#fb_df = pd.read_csv('../data/facebook_un_combined_2020.csv')\n",
    "#fb_df_2020 = pd.read_csv('../data/facebook_un_combined_2020.csv')\n",
    "#predictors = fb_df.values [:, 2:176]\n",
    "#gt = fb_df['migrant_2019'].values\n",
    "\n",
    "fb_df = pd.read_csv('../data/FB_UN_totals.csv')\n",
    "gt = fb_df['migrant_pop_2019'].values"
   ]
  },
  {
   "cell_type": "code",
   "execution_count": 39,
   "metadata": {},
   "outputs": [],
   "source": [
    "fb_un_age_sex = pd.read_csv('../data/FB_UN_age_sex.csv')\n",
    "fb_un_age_sex = fb_un_age_sex.drop('country_name', axis=1)\n",
    "fb_un_age_sex['oecd_member'] = fb_un_age_sex['oecd_member'].astype(int)\n",
    "\n",
    "fb_un_age_sex['data_used_B'] = ['B' in s for s in fb_un_age_sex['data_used']]\n",
    "fb_un_age_sex['data_used_C'] = ['C' in s for s in fb_un_age_sex['data_used']]\n",
    "fb_un_age_sex['data_used_I'] = ['I' in s for s in fb_un_age_sex['data_used']]\n",
    "fb_un_age_sex['data_used_R'] = ['R' in s for s in fb_un_age_sex['data_used']]\n",
    "fb_un_age_sex['data_used_BR'] = ['B' in s and 'R' in s for s in fb_un_age_sex['data_used']]\n",
    "fb_un_age_sex['data_used_CR'] = ['C' in s and 'R' in s for s in fb_un_age_sex['data_used']]\n",
    "fb_un_age_sex['data_used_IR'] = ['I' in s and 'R' in s for s in fb_un_age_sex['data_used']]\n",
    "fb_un_age_sex['data_used_CB'] = ['C' in s and 'B' in s for s in fb_un_age_sex['data_used']]\n",
    "fb_un_age_sex['data_used_CBR'] = ['C' in s and 'B' in s and 'R' in s for s in fb_un_age_sex['data_used']]\n",
    "\n",
    "fb_un_age_sex = fb_un_age_sex.drop('data_used', axis=1)\n",
    "\n",
    "fb_un_age_sex['un_development_lvl'] = [0 if 'Less' in s else 1 for s in fb_un_age_sex['un_development_lvl']]\n",
    "\n",
    "fb_un_age_sex.loc[fb_un_age_sex['fb_penetration'] > 1, 'fb_penetration'] = 1\n",
    "\n",
    "fb_un_age_sex = pd.get_dummies(fb_un_age_sex)\n",
    "\n",
    "fb_un_age_sex['fb_expats_normalized'] = fb_un_age_sex['fb_expats'] / fb_un_age_sex['fb_penetration']"
   ]
  },
  {
   "cell_type": "code",
   "execution_count": 40,
   "metadata": {},
   "outputs": [],
   "source": [
    "# hyperparameters\n",
    "depth = 5\n",
    "random = 0"
   ]
  },
  {
   "cell_type": "code",
   "execution_count": 41,
   "metadata": {
    "scrolled": false
   },
   "outputs": [
    {
     "data": {
      "text/plain": [
       "46"
      ]
     },
     "execution_count": 41,
     "metadata": {},
     "output_type": "execute_result"
    }
   ],
   "source": [
    "f = open('model_mapes.csv','w')\n",
    "writer = csv.writer(f, delimiter=',')\n",
    "writer.writerow([\"model\", \"split\", \"rf_mape\", \"xgboost_mape\", \"linreg_mape\"])"
   ]
  },
  {
   "cell_type": "raw",
   "metadata": {},
   "source": [
    "from sklearn.model_selection import RandomizedSearchCV# Number of trees in random forest\n",
    "n_estimators = [int(x) for x in np.linspace(start = 200, stop = 2000, num = 10)]\n",
    "# Number of features to consider at every split\n",
    "max_features = ['auto', 'sqrt']\n",
    "# Maximum number of levels in tree\n",
    "max_depth = [int(x) for x in np.linspace(10, 110, num = 11)]\n",
    "max_depth.append(None)\n",
    "# Minimum number of samples required to split a node\n",
    "min_samples_split = [2, 5, 10]\n",
    "# Minimum number of samples required at each leaf node\n",
    "min_samples_leaf = [1, 2, 4]\n",
    "# Method of selecting samples for training each tree\n",
    "bootstrap = [True, False]# Create the random grid\n",
    "random_grid = {'n_estimators': n_estimators,\n",
    "               'max_features': max_features,\n",
    "               'max_depth': max_depth,\n",
    "               'min_samples_split': min_samples_split,\n",
    "               'min_samples_leaf': min_samples_leaf,\n",
    "               'bootstrap': bootstrap}"
   ]
  },
  {
   "cell_type": "raw",
   "metadata": {
    "scrolled": true
   },
   "source": [
    "rf = RandomForestRegressor()\n",
    "rf_random = RandomizedSearchCV(estimator = rf, param_distributions = random_grid, n_iter = 100, cv = 3, verbose=2, random_state=42, n_jobs = -1)\n",
    "\n",
    "splits = gen_splits(fb_df_2020)\n",
    "X_train, X_test, y_train, y_test = splits[\"random_all\"][0]\n",
    "rf_random.fit(X_train, y_train)\n",
    "\n",
    "rf_random.best_params_"
   ]
  },
  {
   "cell_type": "raw",
   "metadata": {},
   "source": [
    "best_random = rf_random.best_estimator_\n",
    "MAPE(y_test, best_random.predict(X_test))"
   ]
  },
  {
   "cell_type": "markdown",
   "metadata": {},
   "source": [
    "### Simple Autoregressive Model"
   ]
  },
  {
   "cell_type": "code",
   "execution_count": 43,
   "metadata": {
    "scrolled": true
   },
   "outputs": [
    {
     "name": "stdout",
     "output_type": "stream",
     "text": [
      "random_all: \n",
      "[ 19.90251978  15.6235684  139.87774922]\n",
      "\n",
      "\n",
      "train_test_high: \n",
      "[17.07294836 23.28426186 26.09535056]\n",
      "\n",
      "\n",
      "train_test_low: \n",
      "[25.38962105 26.96627794 62.05331221]\n",
      "\n",
      "\n"
     ]
    }
   ],
   "source": [
    "splits = gen_splits(fb_df, ['migrant_pop_2015', 'migrant_pop_2017'])\n",
    "\n",
    "for (k, folds) in splits.items():\n",
    "    print(k + \": \")\n",
    "    mapes = np.array([0.]*3)\n",
    "    for fold in folds: \n",
    "        mapes+=run_all_models(*fold)\n",
    "    mapes/=len(folds)\n",
    "    writer.writerow([\"autoregressive_baseline\", k, *mapes])\n",
    "    print(mapes)\n",
    "    print(\"\\n\")"
   ]
  },
  {
   "cell_type": "raw",
   "metadata": {},
   "source": [
    "splits = gen_splits(fb_df, ['un_expat_total_age16_2017', 'un_expat_total_age16_2015'], data_used = True)\n",
    "\n",
    "for (k, folds) in splits.items():\n",
    "    print(k + \": \")\n",
    "    mapes = np.array([0.]*3)\n",
    "    for fold in folds: \n",
    "        mapes+=run_all_models(*fold)\n",
    "    mapes/=len(folds)\n",
    "    writer.writerow([\"autoregressive_baseline_data_used\", k, *mapes])\n",
    "    print(mapes)\n",
    "    print(\"\\n\")"
   ]
  },
  {
   "cell_type": "markdown",
   "metadata": {},
   "source": [
    "### Facebook Naive"
   ]
  },
  {
   "cell_type": "code",
   "execution_count": 45,
   "metadata": {
    "scrolled": true
   },
   "outputs": [
    {
     "name": "stdout",
     "output_type": "stream",
     "text": [
      "random_all: \n",
      "[247.76828159 241.88411169 448.55958876]\n",
      "\n",
      "\n",
      "train_test_high: \n",
      "[ 63.55194138  62.71546674 234.35410857]\n",
      "\n",
      "\n",
      "train_test_low: \n",
      "[326.42191893 310.6532503  311.03786474]\n",
      "\n",
      "\n"
     ]
    }
   ],
   "source": [
    "splits = gen_splits(fb_df, ['fb_expats'])\n",
    "\n",
    "for (k, folds) in splits.items():\n",
    "    print(k + \": \")\n",
    "    mapes = mapes = np.array([0.]*3)\n",
    "    for fold in folds: \n",
    "        mapes+=run_all_models(*fold)\n",
    "    mapes/=len(folds)\n",
    "    writer.writerow([\"fb_naive\", k, *mapes])\n",
    "    print(mapes)\n",
    "    print(\"\\n\")"
   ]
  },
  {
   "cell_type": "raw",
   "metadata": {},
   "source": [
    "splits = gen_splits(fb_df, ['total_expat'], True)\n",
    "\n",
    "for (k, folds) in splits.items():\n",
    "    print(k + \": \")\n",
    "    mapes = mapes = np.array([0.]*3)\n",
    "    for fold in folds: \n",
    "        mapes+=run_all_models(*fold)\n",
    "    mapes/=len(folds)\n",
    "    writer.writerow([\"fb_naive_data_used\", k, *mapes])\n",
    "    print(mapes)\n",
    "    print(\"\\n\")"
   ]
  },
  {
   "cell_type": "markdown",
   "metadata": {},
   "source": [
    "### Autoregressive + Facebook Expats"
   ]
  },
  {
   "cell_type": "code",
   "execution_count": 46,
   "metadata": {
    "scrolled": true
   },
   "outputs": [
    {
     "name": "stdout",
     "output_type": "stream",
     "text": [
      "random_all: \n",
      "[ 19.85613053  17.42490357 132.41408573]\n",
      "\n",
      "\n",
      "train_test_high: \n",
      "[17.14987023 24.50012018 25.24737653]\n",
      "\n",
      "\n",
      "train_test_low: \n",
      "[23.11461399 23.25380717 32.2507603 ]\n",
      "\n",
      "\n"
     ]
    }
   ],
   "source": [
    "splits = gen_splits(fb_df, ['migrant_pop_2015', 'migrant_pop_2017', 'fb_expats'])\n",
    "\n",
    "for (k, folds) in splits.items():\n",
    "    print(k + \": \")\n",
    "    mapes = mapes = np.array([0.]*3)\n",
    "    for fold in folds: \n",
    "        mapes+=run_all_models(*fold)\n",
    "    mapes/=len(folds)\n",
    "    writer.writerow([\"autoregressive_plus_fb\", k, *mapes])\n",
    "    print(mapes)\n",
    "    print(\"\\n\")"
   ]
  },
  {
   "cell_type": "raw",
   "metadata": {},
   "source": [
    "splits = gen_splits(fb_df, ['un_expat_total_age16_2017', 'un_expat_total_age16_2015', 'total_expat'], True)\n",
    "\n",
    "for (k, folds) in splits.items():\n",
    "    print(k + \": \")\n",
    "    mapes = mapes = np.array([0.]*3)\n",
    "    for fold in folds: \n",
    "        mapes+=run_all_models(*fold)\n",
    "    mapes/=len(folds)\n",
    "    writer.writerow([\"autoregressive_plus_fb_data_used\", k, *mapes])\n",
    "    print(mapes)\n",
    "    print(\"\\n\")"
   ]
  },
  {
   "cell_type": "markdown",
   "metadata": {},
   "source": [
    "### Facebook age-sex corrected"
   ]
  },
  {
   "cell_type": "raw",
   "metadata": {
    "scrolled": true
   },
   "source": [
    "norm_columns = [col for col in fb_df.columns if 'normalized' in col]\n",
    "splits = gen_splits(fb_df, norm_columns)\n",
    "\n",
    "for (k, folds) in splits.items():\n",
    "    print(k + \": \")\n",
    "    mapes = mapes = np.array([0.]*3)\n",
    "    for fold in folds: \n",
    "        mapes+=run_all_models(*fold)\n",
    "    mapes/=len(folds)\n",
    "    writer.writerow([\"fb_age_sex_normalized\", k, *mapes])\n",
    "    print(mapes)\n",
    "    print(\"\\n\")"
   ]
  },
  {
   "cell_type": "markdown",
   "metadata": {},
   "source": [
    "### Facebook age-sex corrected (2020)"
   ]
  },
  {
   "cell_type": "raw",
   "metadata": {},
   "source": [
    "norm_columns = [col for col in fb_df.columns if 'normalized' in col]\n",
    "splits = gen_splits(fb_df, norm_columns)\n",
    "\n",
    "for (k, folds) in splits.items():\n",
    "    print(k + \": \")\n",
    "    mapes = mapes = np.array([0.]*3)\n",
    "    for fold in folds: \n",
    "        mapes+=run_all_models(*fold)\n",
    "    mapes/=len(folds)\n",
    "    writer.writerow([\"fb_age_sex_normalized\", k, *mapes])\n",
    "    print(mapes)\n",
    "    print(\"\\n\")"
   ]
  },
  {
   "cell_type": "raw",
   "metadata": {},
   "source": [
    "norm_columns = [col for col in fb_df.columns if 'normalized' in col]\n",
    "splits = gen_splits(fb_df, norm_columns, True)\n",
    "\n",
    "for (k, folds) in splits.items():\n",
    "    print(k + \": \")\n",
    "    mapes = mapes = np.array([0.]*3)\n",
    "    for fold in folds: \n",
    "        mapes+=run_all_models(*fold)\n",
    "    mapes/=len(folds)\n",
    "    writer.writerow([\"fb_age_sex_normalized_data_used\", k, *mapes])\n",
    "    print(mapes)\n",
    "    print(\"\\n\")"
   ]
  },
  {
   "cell_type": "markdown",
   "metadata": {},
   "source": [
    "### Facebook age-sex corrected with autoregression"
   ]
  },
  {
   "cell_type": "raw",
   "metadata": {
    "scrolled": true
   },
   "source": [
    "norm_columns = [col for col in fb_df.columns if 'normalized' in col]\n",
    "norm_columns.extend(['un_expat_total_age16_2017', 'un_expat_total_age16_2015'])\n",
    "splits = gen_splits(fb_df, norm_columns)\n",
    "\n",
    "for (k, folds) in splits.items():\n",
    "    print(k + \": \")\n",
    "    mapes = mapes = np.array([0.]*3)\n",
    "    for fold in folds: \n",
    "        mapes+=run_all_models(*fold)\n",
    "    mapes/=len(folds)\n",
    "    writer.writerow([\"autoregressive_with_fb_normalized\", k, *mapes])\n",
    "    print(mapes)\n",
    "    print(\"\\n\")"
   ]
  },
  {
   "cell_type": "markdown",
   "metadata": {},
   "source": [
    "### Facebook age-sex corrected with autoregression (2020)"
   ]
  },
  {
   "cell_type": "raw",
   "metadata": {},
   "source": [
    "norm_columns = [col for col in fb_df.columns if 'normalized' in col]\n",
    "norm_columns.extend(['un_expat_total_age16_2017', 'un_expat_total_age16_2015'])\n",
    "splits = gen_splits(fb_df, norm_columns)\n",
    "\n",
    "for (k, folds) in splits.items():\n",
    "    print(k + \": \")\n",
    "    mapes = mapes = np.array([0.]*3)\n",
    "    for fold in folds: \n",
    "        mapes+=run_all_models(*fold)\n",
    "    mapes/=len(folds)\n",
    "    writer.writerow([\"autoregressive_with_fb_normalized\", k, *mapes])\n",
    "    print(mapes)\n",
    "    print(\"\\n\")"
   ]
  },
  {
   "cell_type": "raw",
   "metadata": {},
   "source": [
    "norm_columns = [col for col in fb_df.columns if 'normalized' in col]\n",
    "norm_columns.extend(['un_expat_total_age16_2017', 'un_expat_total_age16_2015'])\n",
    "splits = gen_splits(fb_df, norm_columns, True)\n",
    "\n",
    "for (k, folds) in splits.items():\n",
    "    print(k + \": \")\n",
    "    mapes = mapes = np.array([0.]*3)\n",
    "    for fold in folds: \n",
    "        mapes+=run_all_models(*fold)\n",
    "    mapes/=len(folds)\n",
    "    writer.writerow([\"autoregressive_with_fb_normalized_data_used\", k, *mapes])\n",
    "    print(mapes)\n",
    "    print(\"\\n\")"
   ]
  },
  {
   "cell_type": "markdown",
   "metadata": {},
   "source": [
    "### All Predictors (2019)"
   ]
  },
  {
   "cell_type": "raw",
   "metadata": {
    "scrolled": true
   },
   "source": [
    "splits = gen_splits(fb_df)\n",
    "\n",
    "for (k, folds) in splits.items():\n",
    "    print(k + \": \")\n",
    "    mapes = mapes = np.array([0.]*3)\n",
    "    for fold in folds: \n",
    "        mapes+=run_all_models(*fold)\n",
    "    mapes/=len(folds)\n",
    "    #writer.writerow([\"all_preds\", k, *mapes])\n",
    "    print(mapes)\n",
    "    print(\"\\n\")"
   ]
  },
  {
   "cell_type": "markdown",
   "metadata": {},
   "source": [
    "### All Predictors (2020)"
   ]
  },
  {
   "cell_type": "raw",
   "metadata": {
    "scrolled": false
   },
   "source": [
    "splits = gen_splits(fb_df)\n",
    "\n",
    "for (k, folds) in splits.items():\n",
    "    print(k + \": \")\n",
    "    mapes = mapes = np.array([0.]*3)\n",
    "    for fold in folds: \n",
    "        mapes+=run_all_models(*fold)\n",
    "    mapes/=len(folds)\n",
    "    writer.writerow([\"all_preds\", k, *mapes])\n",
    "    print(mapes)\n",
    "    print(\"\\n\")"
   ]
  },
  {
   "cell_type": "markdown",
   "metadata": {},
   "source": [
    "### Age-Sex"
   ]
  },
  {
   "cell_type": "code",
   "execution_count": 47,
   "metadata": {},
   "outputs": [],
   "source": [
    "country_codes = list(set(fb_un_age_sex['country_code']))\n",
    "high_dev_isos = list(set(fb_un_age_sex.loc[fb_un_age_sex['un_development_lvl'] == 1, 'country_code']))\n",
    "low_dev_isos = list(set(fb_un_age_sex.loc[fb_un_age_sex['un_development_lvl'] == 0, 'country_code']))"
   ]
  },
  {
   "cell_type": "code",
   "execution_count": 48,
   "metadata": {},
   "outputs": [],
   "source": [
    "randall_splits = [([country_codes[i] for i in train_split], [country_codes[i] for i in test_split]) for train_split, test_split in _iso_splits[\"all\"]]\n",
    "high_dev_splits = [([high_dev_isos[i] for i in train_split], [high_dev_isos[i] for i in test_split]) for train_split, test_split in _iso_splits[\"high\"]]\n",
    "low_dev_splits = [([low_dev_isos[i] for i in train_split], [low_dev_isos[i] for i in test_split]) for train_split, test_split in _iso_splits[\"low\"]]\n",
    "\n",
    "iso_splits = {\n",
    "            \"random_all\": randall_splits,\n",
    "            \"train_test_high\": high_dev_splits,\n",
    "            \"train_test_low\": low_dev_splits\n",
    "         }"
   ]
  },
  {
   "cell_type": "code",
   "execution_count": 49,
   "metadata": {},
   "outputs": [],
   "source": [
    "columns = ['age_sex_group_female_age0',\n",
    "       'age_sex_group_female_age1', 'age_sex_group_female_age10',\n",
    "       'age_sex_group_female_age2', 'age_sex_group_female_age3',\n",
    "       'age_sex_group_female_age4', 'age_sex_group_female_age5',\n",
    "       'age_sex_group_female_age6', 'age_sex_group_female_age7',\n",
    "       'age_sex_group_female_age8', 'age_sex_group_female_age9',\n",
    "       'age_sex_group_male_age0', 'age_sex_group_male_age1',\n",
    "       'age_sex_group_male_age10', 'age_sex_group_male_age2',\n",
    "       'age_sex_group_male_age3', 'age_sex_group_male_age4',\n",
    "       'age_sex_group_male_age5', 'age_sex_group_male_age6',\n",
    "       'age_sex_group_male_age7', 'age_sex_group_male_age8',\n",
    "       'age_sex_group_male_age9', 'migrant_pop_2015', 'migrant_pop_2017']"
   ]
  },
  {
   "cell_type": "code",
   "execution_count": 50,
   "metadata": {},
   "outputs": [
    {
     "name": "stdout",
     "output_type": "stream",
     "text": [
      "random_all : \n",
      "Subgroups:  [ 23.84646531  27.73974519 214.02390304]\n",
      "Total:  [ 14.16542601  17.22727041 143.45972152]\n",
      "\n",
      "\n",
      "train_test_high : \n",
      "Subgroups:  [18.53955913 18.48041349 85.95371386]\n",
      "Total:  [12.1872286  11.15636017 25.04844746]\n",
      "\n",
      "\n",
      "train_test_low : \n",
      "Subgroups:  [ 26.87464501  30.7349897  188.46762754]\n",
      "Total:  [ 17.15208061  20.36235567 157.2136843 ]\n",
      "\n",
      "\n"
     ]
    }
   ],
   "source": [
    "for k, folds in iso_splits.items():\n",
    "    subgroup_mapes = mapes = np.array([0.]*3)\n",
    "    total_mapes = mapes = np.array([0.]*3)\n",
    "    print(k, \": \")\n",
    "    for train, test in folds: \n",
    "        X_train = fb_un_age_sex.loc[fb_un_age_sex['country_code'].isin(train), columns]\n",
    "        X_test = fb_un_age_sex.loc[fb_un_age_sex['country_code'].isin(test), columns]\n",
    "        y_train = fb_un_age_sex.loc[fb_un_age_sex['country_code'].isin(train), 'migrant_pop_2019']\n",
    "        y_test = fb_un_age_sex.loc[fb_un_age_sex['country_code'].isin(test), 'migrant_pop_2019']\n",
    "        mapes, preds = run_all_models(X_train, X_test, y_train, y_test, preds=True)\n",
    "        subgroup_mapes+=mapes\n",
    "\n",
    "        y_test = fb_un_age_sex.loc[fb_un_age_sex['country_code'].isin(test), ['migrant_pop_2019', 'country_code']]\n",
    "        mapes_temp = []\n",
    "        for pred in preds:\n",
    "            pred = pd.DataFrame(pred, columns=['pop'])\n",
    "            pred['country_code'] = fb_un_age_sex.loc[fb_un_age_sex['country_code'].isin(test), 'country_code'].values\n",
    "            mapes_temp.append(MAPE(y_test.groupby('country_code').sum()['migrant_pop_2019'].values, pred.groupby('country_code').sum()['pop'].values))\n",
    "        total_mapes+=mapes_temp\n",
    "\n",
    "    subgroup_mapes = subgroup_mapes/len(folds)\n",
    "    total_mapes = total_mapes/len(folds)\n",
    "    writer.writerow([\"autoregressive_subgroups\", k, *subgroup_mapes])\n",
    "    writer.writerow([\"autoregressive_subgroups_added\", k, *total_mapes])\n",
    "    print(\"Subgroups: \", subgroup_mapes)\n",
    "    print(\"Total: \", total_mapes)\n",
    "    print(\"\\n\")"
   ]
  },
  {
   "cell_type": "code",
   "execution_count": 51,
   "metadata": {},
   "outputs": [],
   "source": [
    "columns = ['fb_expats_normalized', 'age_sex_group_female_age0',\n",
    "       'age_sex_group_female_age1', 'age_sex_group_female_age10',\n",
    "       'age_sex_group_female_age2', 'age_sex_group_female_age3',\n",
    "       'age_sex_group_female_age4', 'age_sex_group_female_age5',\n",
    "       'age_sex_group_female_age6', 'age_sex_group_female_age7',\n",
    "       'age_sex_group_female_age8', 'age_sex_group_female_age9',\n",
    "       'age_sex_group_male_age0', 'age_sex_group_male_age1',\n",
    "       'age_sex_group_male_age10', 'age_sex_group_male_age2',\n",
    "       'age_sex_group_male_age3', 'age_sex_group_male_age4',\n",
    "       'age_sex_group_male_age5', 'age_sex_group_male_age6',\n",
    "       'age_sex_group_male_age7', 'age_sex_group_male_age8',\n",
    "       'age_sex_group_male_age9', 'migrant_pop_2015', 'migrant_pop_2017']"
   ]
  },
  {
   "cell_type": "code",
   "execution_count": 52,
   "metadata": {},
   "outputs": [
    {
     "name": "stdout",
     "output_type": "stream",
     "text": [
      "random_all : \n",
      "Subgroups:  [ 24.96889453  26.91198274 210.54475379]\n",
      "Total:  [ 15.50060815  17.03493764 139.71896829]\n",
      "\n",
      "\n",
      "train_test_high : \n",
      "Subgroups:  [18.68602279 21.10938774 86.60015382]\n",
      "Total:  [12.55085863 15.20704026 25.61836095]\n",
      "\n",
      "\n",
      "train_test_low : \n",
      "Subgroups:  [ 29.3199535   29.17281419 188.41866479]\n",
      "Total:  [ 19.00385318  19.00404275 154.49772212]\n",
      "\n",
      "\n"
     ]
    }
   ],
   "source": [
    "for k, folds in iso_splits.items():\n",
    "    subgroup_mapes = mapes = np.array([0.]*3)\n",
    "    total_mapes = mapes = np.array([0.]*3)\n",
    "    print(k, \": \")\n",
    "    for train, test in folds: \n",
    "        X_train = fb_un_age_sex.loc[fb_un_age_sex['country_code'].isin(train), columns]\n",
    "        X_test = fb_un_age_sex.loc[fb_un_age_sex['country_code'].isin(test), columns]\n",
    "        y_train = fb_un_age_sex.loc[fb_un_age_sex['country_code'].isin(train), 'migrant_pop_2019']\n",
    "        y_test = fb_un_age_sex.loc[fb_un_age_sex['country_code'].isin(test), 'migrant_pop_2019']\n",
    "        mapes, preds = run_all_models(X_train, X_test, y_train, y_test, preds=True)\n",
    "        subgroup_mapes+=mapes\n",
    "\n",
    "        y_test = fb_un_age_sex.loc[fb_un_age_sex['country_code'].isin(test), ['migrant_pop_2019', 'country_code']]\n",
    "        mapes_temp = []\n",
    "        for pred in preds:\n",
    "            pred = pd.DataFrame(pred, columns=['pop'])\n",
    "            pred['country_code'] = fb_un_age_sex.loc[fb_un_age_sex['country_code'].isin(test), 'country_code'].values\n",
    "            mapes_temp.append(MAPE(y_test.groupby('country_code').sum()['migrant_pop_2019'].values, pred.groupby('country_code').sum()['pop'].values))\n",
    "        total_mapes+=mapes_temp\n",
    "\n",
    "    subgroup_mapes = subgroup_mapes/len(folds)\n",
    "    total_mapes = total_mapes/len(folds)\n",
    "    writer.writerow([\"autoregressive_with_fb_normalized_subgroups\", k, *subgroup_mapes])\n",
    "    writer.writerow([\"autoregressive_with_fb_normalized_subgroups_added\", k, *total_mapes])\n",
    "    print(\"Subgroups: \", subgroup_mapes)\n",
    "    print(\"Total: \", total_mapes)\n",
    "    print(\"\\n\")"
   ]
  },
  {
   "cell_type": "code",
   "execution_count": 53,
   "metadata": {},
   "outputs": [],
   "source": [
    "columns = ['fb_expats_normalized', 'age_sex_group_female_age0',\n",
    "       'age_sex_group_female_age1', 'age_sex_group_female_age10',\n",
    "       'age_sex_group_female_age2', 'age_sex_group_female_age3',\n",
    "       'age_sex_group_female_age4', 'age_sex_group_female_age5',\n",
    "       'age_sex_group_female_age6', 'age_sex_group_female_age7',\n",
    "       'age_sex_group_female_age8', 'age_sex_group_female_age9',\n",
    "       'age_sex_group_male_age0', 'age_sex_group_male_age1',\n",
    "       'age_sex_group_male_age10', 'age_sex_group_male_age2',\n",
    "       'age_sex_group_male_age3', 'age_sex_group_male_age4',\n",
    "       'age_sex_group_male_age5', 'age_sex_group_male_age6',\n",
    "       'age_sex_group_male_age7', 'age_sex_group_male_age8',\n",
    "       'age_sex_group_male_age9']"
   ]
  },
  {
   "cell_type": "code",
   "execution_count": 54,
   "metadata": {},
   "outputs": [
    {
     "name": "stdout",
     "output_type": "stream",
     "text": [
      "random_all : \n",
      "Subgroups:  [ 373.51275028  463.23934765 3160.88705568]\n",
      "Total:  [ 295.75716344  367.32333029 2481.84525019]\n",
      "\n",
      "\n",
      "train_test_high : \n",
      "Subgroups:  [114.54023859  98.82990594 597.64629826]\n",
      "Total:  [ 93.14157633  76.00907462 375.16117015]\n",
      "\n",
      "\n",
      "train_test_low : \n",
      "Subgroups:  [ 328.7852281   425.53101723 2363.54796287]\n",
      "Total:  [ 264.02568337  347.29777262 2092.26336991]\n",
      "\n",
      "\n"
     ]
    }
   ],
   "source": [
    "for k, folds in iso_splits.items():\n",
    "    subgroup_mapes = mapes = np.array([0.]*3)\n",
    "    total_mapes = mapes = np.array([0.]*3)\n",
    "    print(k, \": \")\n",
    "    for train, test in folds: \n",
    "        X_train = fb_un_age_sex.loc[fb_un_age_sex['country_code'].isin(train), columns]\n",
    "        X_test = fb_un_age_sex.loc[fb_un_age_sex['country_code'].isin(test), columns]\n",
    "        y_train = fb_un_age_sex.loc[fb_un_age_sex['country_code'].isin(train), 'migrant_pop_2019']\n",
    "        y_test = fb_un_age_sex.loc[fb_un_age_sex['country_code'].isin(test), 'migrant_pop_2019']\n",
    "        mapes, preds = run_all_models(X_train, X_test, y_train, y_test, preds=True)\n",
    "        subgroup_mapes+=mapes\n",
    "\n",
    "        y_test = fb_un_age_sex.loc[fb_un_age_sex['country_code'].isin(test), ['migrant_pop_2019', 'country_code']]\n",
    "        mapes_temp = []\n",
    "        for pred in preds:\n",
    "            pred = pd.DataFrame(pred, columns=['pop'])\n",
    "            pred['country_code'] = fb_un_age_sex.loc[fb_un_age_sex['country_code'].isin(test), 'country_code'].values\n",
    "            mapes_temp.append(MAPE(y_test.groupby('country_code').sum()['migrant_pop_2019'].values, pred.groupby('country_code').sum()['pop'].values))\n",
    "        total_mapes+=mapes_temp\n",
    "\n",
    "    subgroup_mapes = subgroup_mapes/len(folds)\n",
    "    total_mapes = total_mapes/len(folds)\n",
    "    writer.writerow([\"fb_normalized_subgroups\", k, *subgroup_mapes])\n",
    "    writer.writerow([\"fb_normalized_subgroups_added\", k, *total_mapes])\n",
    "    print(\"Subgroups: \", subgroup_mapes)\n",
    "    print(\"Total: \", total_mapes)\n",
    "    print(\"\\n\")"
   ]
  },
  {
   "cell_type": "code",
   "execution_count": 55,
   "metadata": {},
   "outputs": [],
   "source": [
    "f.close()"
   ]
  },
  {
   "cell_type": "code",
   "execution_count": 56,
   "metadata": {},
   "outputs": [],
   "source": [
    "folds = iso_splits[\"random_all\"]\n",
    "\n",
    "(train, test) = folds[0]\n",
    "\n",
    "X_train = fb_un_age_sex.loc[fb_un_age_sex['country_code'].isin(train), columns]\n",
    "X_test = fb_un_age_sex.loc[fb_un_age_sex['country_code'].isin(test), columns]\n",
    "y_train = fb_un_age_sex.loc[fb_un_age_sex['country_code'].isin(train), 'migrant_pop_2019']\n",
    "y_test = fb_un_age_sex.loc[fb_un_age_sex['country_code'].isin(test), 'migrant_pop_2019']\n",
    "\n",
    "lin_reg = LinearRegression()\n",
    "lin_reg.fit(X_train, y_train)\n",
    "lin_y_pred = lin_reg.predict(X_test)"
   ]
  },
  {
   "cell_type": "code",
   "execution_count": 61,
   "metadata": {},
   "outputs": [
    {
     "data": {
      "text/plain": [
       "6        16843\n",
       "7        17011\n",
       "16      118925\n",
       "17       89678\n",
       "18        3235\n",
       "         ...  \n",
       "4219      7330\n",
       "4220      6189\n",
       "4221      4985\n",
       "4222      3892\n",
       "4223      3048\n",
       "Name: migrant_pop_2019, Length: 858, dtype: int64"
      ]
     },
     "execution_count": 61,
     "metadata": {},
     "output_type": "execute_result"
    }
   ],
   "source": [
    "y_test"
   ]
  },
  {
   "cell_type": "code",
   "execution_count": 71,
   "metadata": {},
   "outputs": [
    {
     "data": {
      "text/plain": [
       "{'fb_expats_normalized': 1.0815015520633204,\n",
       " 'age_sex_group_female_age0': -14443.373300439038,\n",
       " 'age_sex_group_female_age1': -21831.32866434396,\n",
       " 'age_sex_group_female_age10': 14643.476320698139,\n",
       " 'age_sex_group_female_age2': -12067.89302024206,\n",
       " 'age_sex_group_female_age3': 3899.989663451408,\n",
       " 'age_sex_group_female_age4': 16981.405716637615,\n",
       " 'age_sex_group_female_age5': 19634.757747478663,\n",
       " 'age_sex_group_female_age6': 17393.815045462357,\n",
       " 'age_sex_group_female_age7': 14572.160207543791,\n",
       " 'age_sex_group_female_age8': 4414.814099811352,\n",
       " 'age_sex_group_female_age9': 7505.057119225462,\n",
       " 'age_sex_group_male_age0': -19677.724643017453,\n",
       " 'age_sex_group_male_age1': -40586.017589742216,\n",
       " 'age_sex_group_male_age10': -4957.806438860914,\n",
       " 'age_sex_group_male_age2': -38439.90689214479,\n",
       " 'age_sex_group_male_age3': -13916.395814194853,\n",
       " 'age_sex_group_male_age4': 10005.989844954796,\n",
       " 'age_sex_group_male_age5': 15423.335463716156,\n",
       " 'age_sex_group_male_age6': 16631.546866740387,\n",
       " 'age_sex_group_male_age7': 12499.157678467873,\n",
       " 'age_sex_group_male_age8': 4227.771803789801,\n",
       " 'age_sex_group_male_age9': 8087.168785007531}"
      ]
     },
     "execution_count": 71,
     "metadata": {},
     "output_type": "execute_result"
    }
   ],
   "source": [
    "dict(zip(columns, lin_reg.coef_))"
   ]
  },
  {
   "cell_type": "code",
   "execution_count": null,
   "metadata": {},
   "outputs": [],
   "source": []
  }
 ],
 "metadata": {
  "kernelspec": {
   "display_name": "Python 3",
   "language": "python",
   "name": "python3"
  },
  "language_info": {
   "codemirror_mode": {
    "name": "ipython",
    "version": 3
   },
   "file_extension": ".py",
   "mimetype": "text/x-python",
   "name": "python",
   "nbconvert_exporter": "python",
   "pygments_lexer": "ipython3",
   "version": "3.8.5"
  }
 },
 "nbformat": 4,
 "nbformat_minor": 4
}
