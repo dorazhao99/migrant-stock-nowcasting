{
 "cells": [
  {
   "cell_type": "markdown",
   "metadata": {},
   "source": [
    "# Migrant Predictions\n",
    "\n",
    "Runs international migrant stock prediction over three regression techniques (linear regression, random forest, XGB), six proposed model equations, and three splits of data. "
   ]
  },
  {
   "cell_type": "code",
   "execution_count": 3,
   "metadata": {},
   "outputs": [
    {
     "name": "stdout",
     "output_type": "stream",
     "text": [
      "Requirement already satisfied: xgboost in /opt/anaconda3/lib/python3.8/site-packages (1.3.3)\r\n",
      "Requirement already satisfied: scipy in /opt/anaconda3/lib/python3.8/site-packages (from xgboost) (1.5.2)\r\n",
      "Requirement already satisfied: numpy in /opt/anaconda3/lib/python3.8/site-packages (from xgboost) (1.19.2)\r\n"
     ]
    }
   ],
   "source": [
<<<<<<< HEAD
    "# Install packages\n",
    "!pip install xgboost\n",
    "from sklearn.ensemble import RandomForestRegressor, AdaBoostRegressor\n",
=======
    "from sklearn.ensemble import RandomForestRegressor\n",
>>>>>>> 04b5c8af135c9a3fc1b32669b9d65afebbbbdf72
    "from sklearn.linear_model import LinearRegression\n",
    "from sklearn.linear_model import Lasso\n",
    "from xgboost import XGBRegressor\n",
    "from sklearn.model_selection import train_test_split\n",
    "import csv\n",
    "import pandas as pd\n",
    "import numpy as np\n",
    "from sklearn.model_selection import KFold"
   ]
  },
  {
   "cell_type": "code",
   "execution_count": 4,
   "metadata": {},
   "outputs": [],
   "source": [
<<<<<<< HEAD
    "# Define MAPE function\n",
=======
    "# Hyperparameters\n",
    "depth = 10\n",
    "lr = 0.01\n",
    "n_estimators = 300\n",
    "random = 0\n",
    "gamma = 1\n",
    "cores = 4"
   ]
  },
  {
   "cell_type": "code",
   "execution_count": 3,
   "metadata": {},
   "outputs": [],
   "source": [
    "# Calculate Mean Absolute Percentage Error\n",
>>>>>>> 04b5c8af135c9a3fc1b32669b9d65afebbbbdf72
    "def MAPE(y_true, y_pred): \n",
    "    return np.mean(np.abs((y_true - y_pred) / y_true)) * 100"
   ]
  },
  {
   "cell_type": "code",
<<<<<<< HEAD
   "execution_count": 7,
   "metadata": {},
   "outputs": [],
   "source": [
    "# Define model functions\n",
=======
   "execution_count": 4,
   "metadata": {},
   "outputs": [],
   "source": [
    "# Runs Random Forest, XGBoost, and Linear Regression Models\n",
>>>>>>> 04b5c8af135c9a3fc1b32669b9d65afebbbbdf72
    "def run_all_models(X_train, X_test, y_train, y_test, preds = False):\n",
    "        \n",
    "    # random forest\n",
    "    rf_regr = RandomForestRegressor(max_depth=depth, random_state=random, \\\n",
    "                                    criterion=\"mae\", n_jobs=cores)\n",
    "    rf_regr.fit(X_train, y_train)\n",
    "    rf_y_pred = rf_regr.predict(X_test)\n",
    "    rf_mape = MAPE(y_test, rf_y_pred)\n",
    "    #print('Random Forests MAPE: {0}'.format(rf_mape))\n",
    "\n",
    "    # xgboost\n",
    "    xg_regr = XGBRegressor(max_depth=depth, learning_rate=lr, n_estimators=n_estimators, \\\n",
    "                           gamma=gamma, random_state=random, n_jobs=cores)\n",
    "    xg_regr.fit(X_train, y_train)\n",
    "    xg_y_pred = xg_regr.predict(X_test)\n",
    "    xg_mape = MAPE(y_test, xg_y_pred)\n",
    "    #print('XGBoost MAPE: {0}'.format(MAPE(y_test, y_pred)))\n",
    "    \n",
    "    if X_train.shape[1] > 20:\n",
    "        X_train = X_train.values\n",
    "        X_train[:,22:] = np.log(X_train[:,22:])\n",
    "        X_test = X_test.values\n",
    "        X_test[:,22:] = np.log(X_test[:, 22:])\n",
    "    else:\n",
    "        X_train = np.log(X_train)\n",
    "        X_test = np.log(X_test)\n",
    "    y_train = np.log(y_train)\n",
    "        \n",
    "    # linear regression\n",
    "    lin_reg = LinearRegression()\n",
    "    lin_reg.fit(X_train, y_train)\n",
    "    lin_y_pred = np.exp(lin_reg.predict(X_test))\n",
    "    lin_mape = MAPE(y_test, lin_y_pred)\n",
<<<<<<< HEAD
    "    \n",
    "    # LASSO\n",
    "    lasso = Lasso()\n",
    "    lasso.fit(X_train, y_train)\n",
    "    lasso_y_pred = np.exp(lasso.predict(X_test))\n",
    "    lasso_mape = MAPE(y_test, lasso_y_pred)\n",
    "\n",
=======
>>>>>>> 04b5c8af135c9a3fc1b32669b9d65afebbbbdf72
    "    #print('Linear Regression MAPE: {0}'.format(MAPE(y_test, y_pred)))\n",
    "    \n",
    "    if preds: return np.array([rf_mape, xg_mape, lin_mape, lasso_mape]), [rf_y_pred, xg_y_pred, lin_y_pred, lasso_mape]\n",
    "    \n",
    "    return np.array([rf_mape, xg_mape, lin_mape, lasso_mape])"
   ]
  },
  {
   "cell_type": "code",
<<<<<<< HEAD
   "execution_count": 8,
=======
   "execution_count": 5,
>>>>>>> 04b5c8af135c9a3fc1b32669b9d65afebbbbdf72
   "metadata": {},
   "outputs": [],
   "source": [
    "# Define splits by UN development level\n",
    "_iso_splits = None\n",
    "def gen_splits(fb_df, variables = [], data_used = False):\n",
    "    global _iso_splits\n",
    "    if data_used:\n",
    "        variables.extend(['data_used_B', 'data_used_C', 'data_used_I', 'data_used_R', 'data_used_BR', 'data_used_CR', 'data_used_IR', 'data_used_CB', 'data_used_CBR'])\n",
    "        \n",
    "    total_columns = [col for col in fb_df.columns[2:] if '2019' not in col and '2020' not in col and ('un' in col or 'lvl' in col)]\n",
    "    predictors = fb_df[variables].values if variables != []\\\n",
    "        else fb_df[total_columns].values\n",
    "    gt = fb_df['migrant_pop_2019'].values\n",
    "    \n",
    "    high_predictors = predictors[fb_df['un_development_lvl'] == 1]\n",
    "    high_gt = gt[fb_df['un_development_lvl'] == 1]\n",
    "    low_predictors = predictors[fb_df['un_development_lvl'] == 0]\n",
    "    low_gt = gt[fb_df['un_development_lvl'] == 0]\n",
    "    \n",
    "    \n",
    "    if _iso_splits is None:\n",
    "        kf = KFold(n_splits=5, shuffle=True, random_state=42)\n",
    "        _iso_splits = dict()\n",
    "        _iso_splits[\"all\"] = list(kf.split(predictors, gt))\n",
    "        _iso_splits[\"high\"] = list(kf.split(high_predictors, high_gt))\n",
    "        _iso_splits[\"low\"] = list(kf.split(low_predictors, low_gt))\n",
    "\n",
    "    splits = dict()\n",
    "    # 1. Randomly sample from all countries for training and test sets.\n",
    "    #splits[\"random_all\"] = train_test_split(predictors, gt, test_size=0.2, random_state=42)\n",
    "    splits[\"random_all\"] = [(predictors[i], predictors[j], gt[i], gt[j]) for i, j in _iso_splits[\"all\"]]\n",
    "    # 2. Train more developed, test less developed\n",
    "    # splits[\"train_high_test_low\"] = [(high_predictors, low_predictors, high_gt, low_gt)]\n",
    "    # 3. Train less developed, test more developed\n",
    "    # splits[\"train_low_test_high\"] = [(low_predictors, high_predictors, low_gt, high_gt)]\n",
    "    # 4. Randomly sample high for train+test\n",
    "    #splits[\"train_test_high\"] = train_test_split(high_predictors, high_gt, test_size=0.2, random_state=42)\n",
    "    splits[\"train_test_high\"] = [(high_predictors[i], high_predictors[j], high_gt[i], high_gt[j]) for i, j in _iso_splits[\"high\"]]\n",
    "    # 5. Randomly sample low for train+test\n",
    "    #splits[\"train_test_low\"] = train_test_split(low_predictors, low_gt, test_size=0.2, random_state=42)\n",
    "    splits[\"train_test_low\"] = [(low_predictors[i], low_predictors[j], low_gt[i], low_gt[j]) for i, j in _iso_splits[\"low\"]]\n",
    "\n",
    "    return splits"
   ]
  },
  {
   "cell_type": "markdown",
   "metadata": {},
   "source": [
    "## Data Setup"
   ]
  },
  {
   "cell_type": "code",
<<<<<<< HEAD
   "execution_count": null,
=======
   "execution_count": 6,
>>>>>>> 04b5c8af135c9a3fc1b32669b9d65afebbbbdf72
   "metadata": {},
   "outputs": [],
   "source": [
    "# read in UN data\n",
    "un_df = pd.read_csv('../data/UN_data_clean.csv')\n",
    "# ground truth data for all of the models\n",
    "y = np.array((un_df[(un_df['age_group'] == 'Total') & (un_df['sex'] == 'both sexes') & (un_df['year'] == 2019)]\\\n",
    "          ['migrant_pop']))"
   ]
  },
  {
   "cell_type": "code",
<<<<<<< HEAD
   "execution_count": null,
=======
   "execution_count": 7,
>>>>>>> 04b5c8af135c9a3fc1b32669b9d65afebbbbdf72
   "metadata": {},
   "outputs": [],
   "source": [
    "# read in combined fb_un_data\n",
    "fb_df = pd.read_csv('../data/FB_UN_totals.csv')\n",
    "gt = fb_df['migrant_pop_2019'].values\n",
    "\n",
    "fb_df['un_development_lvl'] = [0 if 'Less' in s else 1 for s in fb_df['un_development_lvl']]"
   ]
  },
  {
   "cell_type": "code",
<<<<<<< HEAD
   "execution_count": null,
=======
   "execution_count": 8,
>>>>>>> 04b5c8af135c9a3fc1b32669b9d65afebbbbdf72
   "metadata": {},
   "outputs": [],
   "source": [
    "# Read in age-sex normalized data\n",
    "fb_un_age_sex = pd.read_csv('../data/FB_UN_age_sex.csv')\n",
    "fb_un_age_sex = fb_un_age_sex.drop('country_name', axis=1)\n",
    "fb_un_age_sex['oecd_member'] = fb_un_age_sex['oecd_member'].astype(int)\n",
    "\n",
    "fb_un_age_sex['data_used_B'] = ['B' in s for s in fb_un_age_sex['data_used']]\n",
    "fb_un_age_sex['data_used_C'] = ['C' in s for s in fb_un_age_sex['data_used']]\n",
    "fb_un_age_sex['data_used_I'] = ['I' in s for s in fb_un_age_sex['data_used']]\n",
    "fb_un_age_sex['data_used_R'] = ['R' in s for s in fb_un_age_sex['data_used']]\n",
    "fb_un_age_sex['data_used_BR'] = ['B' in s and 'R' in s for s in fb_un_age_sex['data_used']]\n",
    "fb_un_age_sex['data_used_CR'] = ['C' in s and 'R' in s for s in fb_un_age_sex['data_used']]\n",
    "fb_un_age_sex['data_used_IR'] = ['I' in s and 'R' in s for s in fb_un_age_sex['data_used']]\n",
    "fb_un_age_sex['data_used_CB'] = ['C' in s and 'B' in s for s in fb_un_age_sex['data_used']]\n",
    "fb_un_age_sex['data_used_CBR'] = ['C' in s and 'B' in s and 'R' in s for s in fb_un_age_sex['data_used']]\n",
    "\n",
    "fb_un_age_sex = fb_un_age_sex.drop('data_used', axis=1)\n",
    "\n",
    "fb_un_age_sex['un_development_lvl'] = [0 if 'Less' in s else 1 for s in fb_un_age_sex['un_development_lvl']]\n",
    "\n",
    "fb_un_age_sex.loc[fb_un_age_sex['fb_penetration'] > 1, 'fb_penetration'] = 1\n",
    "\n",
    "fb_un_age_sex = pd.get_dummies(fb_un_age_sex)\n",
    "\n",
    "fb_un_age_sex['fb_expats_normalized'] = fb_un_age_sex['fb_expats'] / fb_un_age_sex['fb_penetration']"
   ]
  },
  {
   "cell_type": "code",
<<<<<<< HEAD
   "execution_count": null,
   "metadata": {},
   "outputs": [],
   "source": [
    "# hyperparameters\n",
    "depth = 5\n",
    "random = 0"
   ]
  },
  {
   "cell_type": "code",
   "execution_count": null,
=======
   "execution_count": 9,
>>>>>>> 04b5c8af135c9a3fc1b32669b9d65afebbbbdf72
   "metadata": {
    "scrolled": false
   },
   "outputs": [],
   "source": [
    "# Write results csv file\n",
    "f = open('model_mapes.csv','w')\n",
    "writer = csv.writer(f, delimiter=',')\n",
    "writer.writerow([\"model\", \"split\", \"rf_mape\", \"xgboost_mape\", \"linreg_mape\", \"lasso_mape\"])"
   ]
  },
  {
   "cell_type": "markdown",
   "metadata": {},
   "source": [
    "### Hyperparameter Tuning\n",
    "Change below into code format to tune hyperparameters"
   ]
  },
  {
   "cell_type": "raw",
   "metadata": {},
   "source": [
    "from sklearn.model_selection import RandomizedSearchCV# Number of trees in random forest\n",
    "n_estimators = [int(x) for x in np.linspace(start = 200, stop = 2000, num = 10)]\n",
    "# Number of features to consider at every split\n",
    "max_features = ['auto', 'sqrt']\n",
    "# Maximum number of levels in tree\n",
    "max_depth = [int(x) for x in np.linspace(10, 110, num = 11)]\n",
    "max_depth.append(None)\n",
    "# Minimum number of samples required to split a node\n",
    "min_samples_split = [2, 5, 10]\n",
    "# Minimum number of samples required at each leaf node\n",
    "min_samples_leaf = [1, 2, 4]\n",
    "# Method of selecting samples for training each tree\n",
    "bootstrap = [True, False]# Create the random grid\n",
    "random_grid = {'n_estimators': n_estimators,\n",
    "               'max_features': max_features,\n",
    "               'max_depth': max_depth,\n",
    "               'min_samples_split': min_samples_split,\n",
    "               'min_samples_leaf': min_samples_leaf,\n",
    "               'bootstrap': bootstrap}"
   ]
  },
  {
   "cell_type": "raw",
   "metadata": {
    "scrolled": true
   },
   "source": [
    "rf = RandomForestRegressor()\n",
    "rf_random = RandomizedSearchCV(estimator = rf, param_distributions = random_grid, n_iter = 100, cv = 3, verbose=2, random_state=42, n_jobs = -1)\n",
    "\n",
    "splits = gen_splits(fb_df_2020)\n",
    "X_train, X_test, y_train, y_test = splits[\"random_all\"][0]\n",
    "rf_random.fit(X_train, y_train)\n",
    "\n",
    "rf_random.best_params_"
   ]
  },
  {
   "cell_type": "raw",
   "metadata": {},
   "source": [
    "best_random = rf_random.best_estimator_\n",
    "MAPE(y_test, best_random.predict(X_test))"
   ]
  },
  {
   "cell_type": "markdown",
   "metadata": {},
   "source": [
    "## Non-Adjusted Models"
   ]
  },
  {
   "cell_type": "markdown",
   "metadata": {},
   "source": [
    "### Simple Autoregressive Model"
   ]
  },
  {
   "cell_type": "code",
   "execution_count": null,
   "metadata": {
    "scrolled": true
   },
   "outputs": [],
   "source": [
    "splits = gen_splits(fb_df, ['migrant_pop_2015', 'migrant_pop_2017'])\n",
    "\n",
    "for (k, folds) in splits.items():\n",
    "    print(k + \": \")\n",
    "    mapes = np.array([0.]*3)\n",
    "    for fold in folds: \n",
    "        mapes+=run_all_models(*fold)\n",
    "    mapes/=len(folds)\n",
    "    writer.writerow([\"autoregressive_baseline\", k, *mapes])\n",
    "    print(mapes)\n",
    "    print(\"\\n\")"
   ]
  },
  {
   "cell_type": "markdown",
   "metadata": {},
   "source": [
    "### Facebook Naive"
   ]
  },
  {
   "cell_type": "code",
   "execution_count": null,
   "metadata": {
    "scrolled": true
   },
   "outputs": [],
   "source": [
    "splits = gen_splits(fb_df, ['fb_expats'])\n",
    "\n",
    "for (k, folds) in splits.items():\n",
    "    print(k + \": \")\n",
    "    mapes = mapes = np.array([0.]*3)\n",
    "    for fold in folds: \n",
    "        mapes+=run_all_models(*fold)\n",
    "    mapes/=len(folds)\n",
    "    writer.writerow([\"fb_naive\", k, *mapes])\n",
    "    print(mapes)\n",
    "    print(\"\\n\")"
   ]
  },
  {
   "cell_type": "markdown",
   "metadata": {},
   "source": [
    "### Autoregressive + Facebook Expats"
   ]
  },
  {
   "cell_type": "code",
   "execution_count": null,
   "metadata": {
    "scrolled": true
   },
   "outputs": [],
   "source": [
    "splits = gen_splits(fb_df, ['migrant_pop_2015', 'migrant_pop_2017', 'fb_expats'])\n",
    "\n",
    "for (k, folds) in splits.items():\n",
    "    print(k + \": \")\n",
    "    mapes = mapes = np.array([0.]*3)\n",
    "    for fold in folds: \n",
    "        mapes+=run_all_models(*fold)\n",
    "    mapes/=len(folds)\n",
    "    writer.writerow([\"autoregressive_plus_fb\", k, *mapes])\n",
    "    print(mapes)\n",
    "    print(\"\\n\")"
   ]
  },
  {
   "cell_type": "markdown",
   "metadata": {},
   "source": [
    "## Adjusted Age-Sex Models"
   ]
  },
  {
   "cell_type": "markdown",
   "metadata": {},
   "source": [
    "### Age-Sex"
   ]
  },
  {
   "cell_type": "code",
   "execution_count": null,
   "metadata": {},
   "outputs": [],
   "source": [
    "country_codes = list(set(fb_un_age_sex['country_code']))\n",
    "high_dev_isos = list(set(fb_un_age_sex.loc[fb_un_age_sex['un_development_lvl'] == 1, 'country_code']))\n",
    "low_dev_isos = list(set(fb_un_age_sex.loc[fb_un_age_sex['un_development_lvl'] == 0, 'country_code']))"
   ]
  },
  {
   "cell_type": "code",
   "execution_count": null,
   "metadata": {},
   "outputs": [],
   "source": [
    "randall_splits = [([country_codes[i] for i in train_split], [country_codes[i] for i in test_split]) for train_split, test_split in _iso_splits[\"all\"]]\n",
    "high_dev_splits = [([high_dev_isos[i] for i in train_split], [high_dev_isos[i] for i in test_split]) for train_split, test_split in _iso_splits[\"high\"]]\n",
    "low_dev_splits = [([low_dev_isos[i] for i in train_split], [low_dev_isos[i] for i in test_split]) for train_split, test_split in _iso_splits[\"low\"]]\n",
    "\n",
    "iso_splits = {\n",
    "            \"random_all\": randall_splits,\n",
    "            \"train_test_high\": high_dev_splits,\n",
    "            \"train_test_low\": low_dev_splits\n",
    "         }"
   ]
  },
  {
   "cell_type": "code",
   "execution_count": null,
   "metadata": {},
   "outputs": [],
   "source": [
    "columns = ['age_sex_group_female_age0',\n",
    "       'age_sex_group_female_age1', 'age_sex_group_female_age10',\n",
    "       'age_sex_group_female_age2', 'age_sex_group_female_age3',\n",
    "       'age_sex_group_female_age4', 'age_sex_group_female_age5',\n",
    "       'age_sex_group_female_age6', 'age_sex_group_female_age7',\n",
    "       'age_sex_group_female_age8', 'age_sex_group_female_age9',\n",
    "       'age_sex_group_male_age0', 'age_sex_group_male_age1',\n",
    "       'age_sex_group_male_age10', 'age_sex_group_male_age2',\n",
    "       'age_sex_group_male_age3', 'age_sex_group_male_age4',\n",
    "       'age_sex_group_male_age5', 'age_sex_group_male_age6',\n",
    "       'age_sex_group_male_age7', 'age_sex_group_male_age8',\n",
    "       'age_sex_group_male_age9', 'migrant_pop_2015', 'migrant_pop_2017']"
   ]
  },
  {
   "cell_type": "code",
   "execution_count": 16,
   "metadata": {},
<<<<<<< HEAD
   "outputs": [],
=======
   "outputs": [
    {
     "name": "stdout",
     "output_type": "stream",
     "text": [
      "random_all : \n",
      "Subgroups:  [23.84646531 27.73974519 32.1461829 ]\n",
      "Total:  [14.16542601 17.22727041 16.60578027]\n",
      "\n",
      "\n",
      "train_test_high : \n",
      "Subgroups:  [18.53955913 18.48041349 27.8865388 ]\n",
      "Total:  [12.1872286  11.15636017 14.44343896]\n",
      "\n",
      "\n",
      "train_test_low : \n",
      "Subgroups:  [26.87464501 30.7349897  33.86436493]\n",
      "Total:  [17.15208061 20.36235567 17.70338255]\n",
      "\n",
      "\n"
     ]
    }
   ],
>>>>>>> 04b5c8af135c9a3fc1b32669b9d65afebbbbdf72
   "source": [
    "for k, folds in iso_splits.items():\n",
    "    subgroup_mapes = mapes = np.array([0.]*3)\n",
    "    total_mapes = mapes = np.array([0.]*3)\n",
    "    print(k, \": \")\n",
    "    for train, test in folds: \n",
    "        X_train = fb_un_age_sex.loc[fb_un_age_sex['country_code'].isin(train), columns]\n",
    "        X_test = fb_un_age_sex.loc[fb_un_age_sex['country_code'].isin(test), columns]\n",
    "        y_train = fb_un_age_sex.loc[fb_un_age_sex['country_code'].isin(train), 'migrant_pop_2019']\n",
    "        y_test = fb_un_age_sex.loc[fb_un_age_sex['country_code'].isin(test), 'migrant_pop_2019']\n",
    "        mapes, preds = run_all_models(X_train, X_test, y_train, y_test, preds=True)\n",
    "        subgroup_mapes+=mapes\n",
    "\n",
    "        y_test = fb_un_age_sex.loc[fb_un_age_sex['country_code'].isin(test), ['migrant_pop_2019', 'country_code']]\n",
    "        mapes_temp = []\n",
    "        for pred in preds:\n",
    "            pred = pd.DataFrame(pred, columns=['pop'])\n",
    "            pred['country_code'] = fb_un_age_sex.loc[fb_un_age_sex['country_code'].isin(test), 'country_code'].values\n",
    "            mapes_temp.append(MAPE(y_test.groupby('country_code').sum()['migrant_pop_2019'].values, pred.groupby('country_code').sum()['pop'].values))\n",
    "        total_mapes+=mapes_temp\n",
    "\n",
    "    subgroup_mapes = subgroup_mapes/len(folds)\n",
    "    total_mapes = total_mapes/len(folds)\n",
    "    writer.writerow([\"autoregressive_subgroups\", k, *subgroup_mapes])\n",
    "    writer.writerow([\"autoregressive_subgroups_added\", k, *total_mapes])\n",
    "    print(\"Subgroups: \", subgroup_mapes)\n",
    "    print(\"Total: \", total_mapes)\n",
    "    print(\"\\n\")"
   ]
  },
  {
   "cell_type": "code",
   "execution_count": 17,
   "metadata": {},
   "outputs": [],
   "source": [
    "columns = ['age_sex_group_female_age0',\n",
    "       'age_sex_group_female_age1', 'age_sex_group_female_age10',\n",
    "       'age_sex_group_female_age2', 'age_sex_group_female_age3',\n",
    "       'age_sex_group_female_age4', 'age_sex_group_female_age5',\n",
    "       'age_sex_group_female_age6', 'age_sex_group_female_age7',\n",
    "       'age_sex_group_female_age8', 'age_sex_group_female_age9',\n",
    "       'age_sex_group_male_age0', 'age_sex_group_male_age1',\n",
    "       'age_sex_group_male_age10', 'age_sex_group_male_age2',\n",
    "       'age_sex_group_male_age3', 'age_sex_group_male_age4',\n",
    "       'age_sex_group_male_age5', 'age_sex_group_male_age6',\n",
    "       'age_sex_group_male_age7', 'age_sex_group_male_age8',\n",
    "       'age_sex_group_male_age9', 'migrant_pop_2015', 'migrant_pop_2017', 'fb_expats_normalized']"
   ]
  },
  {
   "cell_type": "code",
   "execution_count": 18,
   "metadata": {},
   "outputs": [
    {
     "name": "stdout",
     "output_type": "stream",
     "text": [
      "random_all : \n",
      "Subgroups:  [24.87980197 26.99255378 19.37732491]\n",
      "Total:  [15.44634558 17.14186881 11.33363937]\n",
      "\n",
      "\n",
      "train_test_high : \n",
      "Subgroups:  [18.86047124 19.21923497 14.06266874]\n",
      "Total:  [12.69710468 12.206536    8.56314977]\n",
      "\n",
      "\n",
      "train_test_low : \n",
      "Subgroups:  [29.29580149 29.25912082 21.55026744]\n",
      "Total:  [18.96779849 18.99965591 13.41814243]\n",
      "\n",
      "\n"
     ]
    }
   ],
   "source": [
    "for k, folds in iso_splits.items():\n",
    "    subgroup_mapes = mapes = np.array([0.]*3)\n",
    "    total_mapes = mapes = np.array([0.]*3)\n",
    "    print(k, \": \")\n",
    "    for train, test in folds: \n",
    "        X_train = fb_un_age_sex.loc[fb_un_age_sex['country_code'].isin(train), columns]\n",
    "        X_test = fb_un_age_sex.loc[fb_un_age_sex['country_code'].isin(test), columns]\n",
    "        y_train = fb_un_age_sex.loc[fb_un_age_sex['country_code'].isin(train), 'migrant_pop_2019']\n",
    "        y_test = fb_un_age_sex.loc[fb_un_age_sex['country_code'].isin(test), 'migrant_pop_2019']\n",
    "        mapes, preds = run_all_models(X_train, X_test, y_train, y_test, preds=True)\n",
    "        subgroup_mapes+=mapes\n",
    "\n",
    "        y_test = fb_un_age_sex.loc[fb_un_age_sex['country_code'].isin(test), ['migrant_pop_2019', 'country_code']]\n",
    "        mapes_temp = []\n",
    "        for pred in preds:\n",
    "            pred = pd.DataFrame(pred, columns=['pop'])\n",
    "            pred['country_code'] = fb_un_age_sex.loc[fb_un_age_sex['country_code'].isin(test), 'country_code'].values\n",
    "            mapes_temp.append(MAPE(y_test.groupby('country_code').sum()['migrant_pop_2019'].values, pred.groupby('country_code').sum()['pop'].values))\n",
    "        total_mapes+=mapes_temp\n",
    "\n",
    "    subgroup_mapes = subgroup_mapes/len(folds)\n",
    "    total_mapes = total_mapes/len(folds)\n",
    "    writer.writerow([\"autoregressive_with_fb_normalized_subgroups\", k, *subgroup_mapes])\n",
    "    writer.writerow([\"autoregressive_with_fb_normalized_subgroups_added\", k, *total_mapes])\n",
    "    print(\"Subgroups: \", subgroup_mapes)\n",
    "    print(\"Total: \", total_mapes)\n",
    "    print(\"\\n\")"
   ]
  },
  {
   "cell_type": "code",
   "execution_count": 19,
   "metadata": {},
   "outputs": [],
   "source": [
    "columns = ['age_sex_group_female_age0',\n",
    "       'age_sex_group_female_age1', 'age_sex_group_female_age10',\n",
    "       'age_sex_group_female_age2', 'age_sex_group_female_age3',\n",
    "       'age_sex_group_female_age4', 'age_sex_group_female_age5',\n",
    "       'age_sex_group_female_age6', 'age_sex_group_female_age7',\n",
    "       'age_sex_group_female_age8', 'age_sex_group_female_age9',\n",
    "       'age_sex_group_male_age0', 'age_sex_group_male_age1',\n",
    "       'age_sex_group_male_age10', 'age_sex_group_male_age2',\n",
    "       'age_sex_group_male_age3', 'age_sex_group_male_age4',\n",
    "       'age_sex_group_male_age5', 'age_sex_group_male_age6',\n",
    "       'age_sex_group_male_age7', 'age_sex_group_male_age8',\n",
    "       'age_sex_group_male_age9', 'fb_expats_normalized']"
   ]
  },
  {
   "cell_type": "code",
   "execution_count": null,
   "metadata": {},
   "outputs": [
    {
     "name": "stdout",
     "output_type": "stream",
     "text": [
      "random_all : \n"
     ]
    }
   ],
   "source": [
    "for k, folds in iso_splits.items():\n",
    "    subgroup_mapes = mapes = np.array([0.]*3)\n",
    "    total_mapes = mapes = np.array([0.]*3)\n",
    "    print(k, \": \")\n",
    "    for train, test in folds: \n",
    "        X_train = fb_un_age_sex.loc[fb_un_age_sex['country_code'].isin(train), columns]\n",
    "        X_test = fb_un_age_sex.loc[fb_un_age_sex['country_code'].isin(test), columns]\n",
    "        y_train = fb_un_age_sex.loc[fb_un_age_sex['country_code'].isin(train), 'migrant_pop_2019']\n",
    "        y_test = fb_un_age_sex.loc[fb_un_age_sex['country_code'].isin(test), 'migrant_pop_2019']\n",
    "        mapes, preds = run_all_models(X_train, X_test, y_train, y_test, preds=True)\n",
    "        subgroup_mapes+=mapes\n",
    "\n",
    "        y_test = fb_un_age_sex.loc[fb_un_age_sex['country_code'].isin(test), ['migrant_pop_2019', 'country_code']]\n",
    "        mapes_temp = []\n",
    "        for pred in preds:\n",
    "            pred = pd.DataFrame(pred, columns=['pop'])\n",
    "            pred['country_code'] = fb_un_age_sex.loc[fb_un_age_sex['country_code'].isin(test), 'country_code'].values\n",
    "            mapes_temp.append(MAPE(y_test.groupby('country_code').sum()['migrant_pop_2019'].values, pred.groupby('country_code').sum()['pop'].values))\n",
    "        total_mapes+=mapes_temp\n",
    "\n",
    "    subgroup_mapes = subgroup_mapes/len(folds)\n",
    "    total_mapes = total_mapes/len(folds)\n",
    "    writer.writerow([\"fb_normalized_subgroups\", k, *subgroup_mapes])\n",
    "    writer.writerow([\"fb_normalized_subgroups_added\", k, *total_mapes])\n",
    "    print(\"Subgroups: \", subgroup_mapes)\n",
    "    print(\"Total: \", total_mapes)\n",
    "    print(\"\\n\")"
   ]
  },
  {
   "cell_type": "code",
   "execution_count": null,
   "metadata": {},
   "outputs": [],
   "source": [
    "f.close()"
   ]
  }
 ],
 "metadata": {
  "kernelspec": {
   "display_name": "Python 3",
   "language": "python",
   "name": "python3"
  },
  "language_info": {
   "codemirror_mode": {
    "name": "ipython",
    "version": 3
   },
   "file_extension": ".py",
   "mimetype": "text/x-python",
   "name": "python",
   "nbconvert_exporter": "python",
   "pygments_lexer": "ipython3",
   "version": "3.8.5"
  }
 },
 "nbformat": 4,
 "nbformat_minor": 4
}
