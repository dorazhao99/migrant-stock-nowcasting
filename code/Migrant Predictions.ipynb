{
 "cells": [
  {
   "cell_type": "code",
   "execution_count": 1,
   "metadata": {},
   "outputs": [],
   "source": [
    "from sklearn.ensemble import RandomForestRegressor, AdaBoostRegressor\n",
    "from sklearn.linear_model import LinearRegression\n",
    "from xgboost import XGBRegressor\n",
    "from sklearn.model_selection import train_test_split\n",
    "import csv\n",
    "import pandas as pd\n",
    "import numpy as np"
   ]
  },
  {
   "cell_type": "code",
   "execution_count": 2,
   "metadata": {},
   "outputs": [],
   "source": [
    "def MAPE(y_true, y_pred): \n",
    "    return np.mean(np.abs((y_true - y_pred) / y_true)) * 100"
   ]
  },
  {
   "cell_type": "code",
   "execution_count": 3,
   "metadata": {},
   "outputs": [],
   "source": [
    "def run_all(X_train, X_test, y_train, y_test):\n",
    "    # random forest\n",
    "    rf_regr = RandomForestRegressor(max_depth=depth, random_state=random, criterion=\"mae\")\n",
    "    rf_regr.fit(X_train, y_train)\n",
    "    y_pred = rf_regr.predict(X_test)\n",
    "    rf_mape = MAPE(y_test, y_pred)\n",
    "    print('Random Forests MAPE: {0}'.format(rf_mape))\n",
    "    \n",
    "    # adaboost \n",
    "    ada_regr = AdaBoostRegressor(random_state=random)\n",
    "    ada_regr.fit(X_train, y_train)\n",
    "    y_pred = ada_regr.predict(X_test)\n",
    "    ada_mape = MAPE(y_test, y_pred)\n",
    "    print('AdaBoost MAPE: {0}'.format(MAPE(y_test, y_pred)))\n",
    "    \n",
    "    # xgboost\n",
    "    xg_regr = XGBRegressor(random_state=random)\n",
    "    xg_regr.fit(X_train, y_train)\n",
    "    y_pred = xg_regr.predict(X_test)\n",
    "    xg_mape = MAPE(y_test, y_pred)\n",
    "    print('XGBoost MAPE: {0}'.format(MAPE(y_test, y_pred)))\n",
    "    \n",
    "    # linear regression\n",
    "    lin_reg = LinearRegression()\n",
    "    lin_reg.fit(X_train, y_train)\n",
    "    y_pred = lin_reg.predict(X_test)\n",
    "    lin_mape = MAPE(y_test, y_pred)\n",
    "    print('Linear Regression MAPE: {0}'.format(MAPE(y_test, y_pred)))\n",
    "    \n",
    "    return (rf_mape, ada_mape, xg_mape, lin_mape)"
   ]
  },
  {
   "cell_type": "markdown",
   "metadata": {},
   "source": [
    "## Data Setup"
   ]
  },
  {
   "cell_type": "code",
   "execution_count": 4,
   "metadata": {},
   "outputs": [],
   "source": [
    "# read in UN data\n",
    "un_df = pd.read_csv('../data/UN_data_clean.csv')\n",
    "# ground truth data for all of the models\n",
    "y = np.array((un_df[(un_df['age_group'] == 'Total') & (un_df['sex'] == 'both sexes') & (un_df['year'] == 2019)]\\\n",
    "          ['migrant_pop']))"
   ]
  },
  {
   "cell_type": "code",
   "execution_count": 5,
   "metadata": {},
   "outputs": [],
   "source": [
    "# read in combined fb_un_data\n",
    "fb_df = pd.read_csv('../data/facebook_un_combined.csv')\n",
    "predictors = fb_df.values [:, 2:176]\n",
    "gt = fb_df['migrant_2019'].values"
   ]
  },
  {
   "cell_type": "code",
   "execution_count": 6,
   "metadata": {},
   "outputs": [],
   "source": [
    "# hyperparameters\n",
    "depth = 5\n",
    "random = 0"
   ]
  },
  {
   "cell_type": "markdown",
   "metadata": {},
   "source": [
    "### Simple Autoregressive Model"
   ]
  },
  {
   "cell_type": "code",
   "execution_count": 7,
   "metadata": {
    "scrolled": true
   },
   "outputs": [],
   "source": [
    "# format data\n",
    "y = gt\n",
    "X = fb_df[['un_total_age16_2017', 'un_total_age16_2015']].values\n",
    "splits = train_test_split(X, y, test_size=0.2, random_state=42)"
   ]
  },
  {
   "cell_type": "code",
   "execution_count": 8,
   "metadata": {},
   "outputs": [
    {
     "name": "stdout",
     "output_type": "stream",
     "text": [
      "Random Forests MAPE: 71.33136130546714\n",
      "AdaBoost MAPE: 1019.2923295687892\n",
      "XGBoost MAPE: 97.84671343298231\n",
      "Linear Regression MAPE: 151.72909609399267\n"
     ]
    }
   ],
   "source": [
    "run_all(*splits);"
   ]
  },
  {
   "cell_type": "markdown",
   "metadata": {},
   "source": [
    "### Facebook Naive"
   ]
  },
  {
   "cell_type": "code",
   "execution_count": 9,
   "metadata": {},
   "outputs": [],
   "source": [
    "y = gt\n",
    "X = fb_df[['total_expat']].values\n",
    "splits = train_test_split(X, y, test_size=0.2, random_state=42)"
   ]
  },
  {
   "cell_type": "code",
   "execution_count": 10,
   "metadata": {},
   "outputs": [
    {
     "name": "stdout",
     "output_type": "stream",
     "text": [
      "Random Forests MAPE: 348.70714684882535\n",
      "AdaBoost MAPE: 888.4393378179258\n",
      "XGBoost MAPE: 426.13142616259444\n",
      "Linear Regression MAPE: 269.78360941092535\n"
     ]
    }
   ],
   "source": [
    "run_all(*splits);"
   ]
  },
  {
   "cell_type": "markdown",
   "metadata": {},
   "source": [
    "### Autogressive + Facebook Expats"
   ]
  },
  {
   "cell_type": "code",
   "execution_count": 11,
   "metadata": {},
   "outputs": [],
   "source": [
    "# format data\n",
    "y = gt\n",
    "X = fb_df[['un_total_age16_2017', 'un_total_age16_2015', 'total_expat']].values\n",
    "splits = train_test_split(X, y, test_size=0.2, random_state=42)"
   ]
  },
  {
   "cell_type": "code",
   "execution_count": 12,
   "metadata": {},
   "outputs": [
    {
     "name": "stdout",
     "output_type": "stream",
     "text": [
      "Random Forests MAPE: 71.61149099901387\n",
      "AdaBoost MAPE: 1083.5296833321377\n",
      "XGBoost MAPE: 36.29133918555385\n",
      "Linear Regression MAPE: 150.97892702706264\n"
     ]
    }
   ],
   "source": [
    "run_all(*splits);"
   ]
  },
  {
   "cell_type": "markdown",
   "metadata": {},
   "source": [
    "### All Predictors"
   ]
  },
  {
   "cell_type": "code",
   "execution_count": 13,
   "metadata": {},
   "outputs": [],
   "source": [
    "X = predictors\n",
    "y = gt\n",
    "X_train, X_test, y_train, y_test = train_test_split(X, y, test_size=0.2, random_state=42)"
   ]
  },
  {
   "cell_type": "code",
   "execution_count": 14,
   "metadata": {},
   "outputs": [
    {
     "name": "stdout",
     "output_type": "stream",
     "text": [
      "Mean Absolute Percentage Error: 59.78972763864687\n"
     ]
    }
   ],
   "source": [
    "# random forest\n",
    "rf_regr = RandomForestRegressor(max_depth=depth, random_state=random, criterion=\"mae\")\n",
    "rf_regr.fit(X_train, y_train)\n",
    "y_pred = rf_regr.predict(X_test)\n",
    "print('Mean Absolute Percentage Error: {0}'.format(MAPE(y_test, y_pred)))"
   ]
  },
  {
   "cell_type": "code",
   "execution_count": 15,
   "metadata": {},
   "outputs": [
    {
     "name": "stdout",
     "output_type": "stream",
     "text": [
      "Mean Absolute Percentage Error: 1121.7662042983834\n"
     ]
    }
   ],
   "source": [
    "# adaboost \n",
    "ada_regr = AdaBoostRegressor(random_state=random)\n",
    "ada_regr.fit(X_train, y_train)\n",
    "y_pred = ada_regr.predict(X_test)\n",
    "print('Mean Absolute Percentage Error: {0}'.format(MAPE(y_test, y_pred)))"
   ]
  },
  {
   "cell_type": "code",
   "execution_count": 16,
   "metadata": {},
   "outputs": [
    {
     "name": "stdout",
     "output_type": "stream",
     "text": [
      "Mean Absolute Percentage Error: 36.157544020378815\n"
     ]
    }
   ],
   "source": [
    "# xgboost\n",
    "xg_regr = XGBRegressor(random_state=random)\n",
    "xg_regr.fit(X_train, y_train)\n",
    "y_pred = xg_regr.predict(X_test)\n",
    "print('Mean Absolute Percentage Error: {0}'.format(MAPE(y_test, y_pred)))"
   ]
  },
  {
   "cell_type": "code",
   "execution_count": 17,
   "metadata": {},
   "outputs": [
    {
     "name": "stdout",
     "output_type": "stream",
     "text": [
      "Mean Absolute Percentage Error: 215.80557870632853\n"
     ]
    }
   ],
   "source": [
    "# linear regression\n",
    "lin_reg = LinearRegression()\n",
    "lin_reg.fit(X_train, y_train)\n",
    "y_pred = lin_reg.predict(X_test)\n",
    "print('Mean Absolute Percentage Error: {0}'.format(MAPE(y_test, y_pred)))"
   ]
  }
 ],
 "metadata": {
  "kernelspec": {
   "display_name": "Python 3",
   "language": "python",
   "name": "python3"
  },
  "language_info": {
   "codemirror_mode": {
    "name": "ipython",
    "version": 3
   },
   "file_extension": ".py",
   "mimetype": "text/x-python",
   "name": "python",
   "nbconvert_exporter": "python",
   "pygments_lexer": "ipython3",
   "version": "3.8.5"
  }
 },
 "nbformat": 4,
 "nbformat_minor": 4
}
