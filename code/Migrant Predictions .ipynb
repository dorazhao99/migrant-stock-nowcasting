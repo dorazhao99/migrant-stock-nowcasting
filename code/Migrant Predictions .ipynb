{
 "cells": [
  {
   "cell_type": "code",
   "execution_count": 71,
   "metadata": {},
   "outputs": [],
   "source": [
    "from sklearn.ensemble import RandomForestRegressor, AdaBoostRegressor\n",
    "from sklearn.model_selection import train_test_split\n",
    "import csv\n",
    "import pandas as pd\n",
    "import numpy as np"
   ]
  },
  {
   "cell_type": "code",
   "execution_count": 72,
   "metadata": {},
   "outputs": [],
   "source": [
    "def MAPE(y_true, y_pred): \n",
    "    return np.mean(np.abs((y_true - y_pred) / y_true)) * 100"
   ]
  },
  {
   "cell_type": "markdown",
   "metadata": {},
   "source": [
    "## Data Setup"
   ]
  },
  {
   "cell_type": "code",
   "execution_count": 73,
   "metadata": {},
   "outputs": [],
   "source": [
    "# read in UN data\n",
    "un_df = pd.read_csv('../data/UN_data_clean.csv')\n",
    "# ground truth data for all of the models\n",
    "y = np.array((un_df[(un_df['age_group'] == 'Total') & (un_df['sex'] == 'both sexes') & (un_df['year'] == 2019)]\\\n",
    "          ['migrant_pop']))"
   ]
  },
  {
   "cell_type": "code",
   "execution_count": 74,
   "metadata": {},
   "outputs": [],
   "source": [
    "# read in combined fb_un_data\n",
    "fb_df = pd.read_csv('../data/facebook_un_combined.csv')\n",
    "predictors = fb_df.values [:, 2:177]\n",
    "gt = fb_df['migrant_2019'].values"
   ]
  },
  {
   "cell_type": "code",
   "execution_count": 77,
   "metadata": {},
   "outputs": [],
   "source": [
    "# hyperparameters\n",
    "depth = 5\n",
    "random = 0"
   ]
  },
  {
   "cell_type": "markdown",
   "metadata": {},
   "source": [
    "### Simple Autoregressive Model"
   ]
  },
  {
   "cell_type": "code",
   "execution_count": 88,
   "metadata": {},
   "outputs": [],
   "source": [
    "# format data\n",
    "gt = y\n",
    "X = fb_df[['un_total_age16_2017', 'un_total_age16_2015']].values\n",
    "X_train, X_test, y_train, y_test = train_test_split(X, y, test_size=0.2, random_state=42)"
   ]
  },
  {
   "cell_type": "code",
   "execution_count": 89,
   "metadata": {},
   "outputs": [
    {
     "name": "stdout",
     "output_type": "stream",
     "text": [
      "Mean Absolute Percentage Error: 354.1300745781506\n"
     ]
    }
   ],
   "source": [
    "# random forest\n",
    "rf_regr = RandomForestRegressor(max_depth=depth, random_state=random, criterion=\"mae\")\n",
    "rf_regr.fit(X_train, y_train)\n",
    "y_pred = rf_regr.predict(X_test)\n",
    "print('Mean Absolute Percentage Error: {0}'.format(MAPE(y_test, y_pred)))"
   ]
  },
  {
   "cell_type": "code",
   "execution_count": 90,
   "metadata": {},
   "outputs": [
    {
     "name": "stdout",
     "output_type": "stream",
     "text": [
      "Mean Absolute Percentage Error: 980.7322046110004\n"
     ]
    }
   ],
   "source": [
    "# adaboost \n",
    "ada_regr = AdaBoostRegressor(random_state=random)\n",
    "ada_regr.fit(X_train, y_train)\n",
    "y_pred = ada_regr.predict(X_test)\n",
    "print('Mean Absolute Percentage Error: {0}'.format(MAPE(y_test, y_pred)))"
   ]
  },
  {
   "cell_type": "markdown",
   "metadata": {},
   "source": [
    "### Complete Model"
   ]
  },
  {
   "cell_type": "code",
   "execution_count": 78,
   "metadata": {},
   "outputs": [],
   "source": [
    "X = predictors\n",
    "y = gt\n",
    "X_train, X_test, y_train, y_test = train_test_split(X, y, test_size=0.2, random_state=2)"
   ]
  },
  {
   "cell_type": "code",
   "execution_count": 79,
   "metadata": {},
   "outputs": [
    {
     "name": "stdout",
     "output_type": "stream",
     "text": [
      "Mean Absolute Percentage Error: 26.441598134479392\n"
     ]
    }
   ],
   "source": [
    "# random forest\n",
    "rf_regr = RandomForestRegressor(max_depth=depth, random_state=random, criterion=\"mae\")\n",
    "rf_regr.fit(X_train, y_train)\n",
    "y_pred = rf_regr.predict(X_test)\n",
    "print('Mean Absolute Percentage Error: {0}'.format(MAPE(y_test, y_pred)))"
   ]
  },
  {
   "cell_type": "code",
   "execution_count": 80,
   "metadata": {},
   "outputs": [
    {
     "name": "stdout",
     "output_type": "stream",
     "text": [
      "Mean Absolute Percentage Error: 1229.4799041098702\n"
     ]
    }
   ],
   "source": [
    "# adaboost \n",
    "ada_regr = AdaBoostRegressor(random_state=random)\n",
    "ada_regr.fit(X_train, y_train)\n",
    "y_pred = ada_regr.predict(X_test)\n",
    "print('Mean Absolute Percentage Error: {0}'.format(MAPE(y_test, y_pred)))"
   ]
  },
  {
   "cell_type": "code",
   "execution_count": null,
   "metadata": {},
   "outputs": [],
   "source": []
  }
 ],
 "metadata": {
  "kernelspec": {
   "display_name": "Python 3",
   "language": "python",
   "name": "python3"
  },
  "language_info": {
   "codemirror_mode": {
    "name": "ipython",
    "version": 3
   },
   "file_extension": ".py",
   "mimetype": "text/x-python",
   "name": "python",
   "nbconvert_exporter": "python",
   "pygments_lexer": "ipython3",
   "version": "3.8.5"
  }
 },
 "nbformat": 4,
 "nbformat_minor": 4
}
