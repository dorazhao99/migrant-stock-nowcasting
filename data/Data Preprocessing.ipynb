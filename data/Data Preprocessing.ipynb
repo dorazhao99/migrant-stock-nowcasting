{
 "cells": [
  {
   "cell_type": "code",
   "execution_count": 1,
   "metadata": {},
   "outputs": [],
   "source": [
    "import pandas as pd"
   ]
  },
  {
   "cell_type": "code",
   "execution_count": 2,
   "metadata": {},
   "outputs": [],
   "source": [
    "un_df = pd.read_csv('UN_data_clean.csv')\n",
    "fb_df = pd.read_csv('facebookData.csv')"
   ]
  },
  {
   "cell_type": "code",
   "execution_count": 3,
   "metadata": {},
   "outputs": [],
   "source": [
    "# normalize so it is the same set of countries used\n",
    "fb_remove = set(fb_df['iso']).intersection(set(fb_df['iso']) ^ set(un_df['country_code']))\n",
    "un_remove = list(set(un_df['country_code']).intersection(set(fb_df['iso']) ^ set(un_df['country_code'])))\n",
    "un_df = un_df[~un_df['country_code'].isin(un_remove)]\n",
    "fb_df = fb_df[~fb_df['iso'].isin(fb_remove)]"
   ]
  },
  {
   "cell_type": "code",
   "execution_count": 4,
   "metadata": {},
   "outputs": [
    {
     "data": {
      "text/plain": [
       "True"
      ]
     },
     "execution_count": 4,
     "metadata": {},
     "output_type": "execute_result"
    }
   ],
   "source": [
    "# sort by iso\n",
    "un_df = un_df.sort_values(['country_code'])\n",
    "fb_df = fb_df.sort_values(['iso'])\n",
    "set(un_df['country_code'].tolist()) == set(fb_df['iso'].tolist()) # check to make sure country codes are the same"
   ]
  },
  {
   "cell_type": "code",
   "execution_count": 5,
   "metadata": {},
   "outputs": [
    {
     "name": "stdout",
     "output_type": "stream",
     "text": [
      "un_male_age0_2015\n",
      "un_male_age1_2015\n",
      "un_male_age2_2015\n",
      "un_male_age3_2015\n",
      "un_male_age4_2015\n",
      "un_male_age5_2015\n",
      "un_male_age6_2015\n",
      "un_male_age7_2015\n",
      "un_male_age8_2015\n",
      "un_male_age9_2015\n",
      "un_male_age10_2015\n",
      "un_male_age11_2015\n",
      "un_male_age12_2015\n",
      "un_male_age13_2015\n",
      "un_male_age14_2015\n",
      "un_male_age15_2015\n",
      "un_male_age16_2015\n",
      "un_female_age0_2015\n",
      "un_female_age1_2015\n",
      "un_female_age2_2015\n",
      "un_female_age3_2015\n",
      "un_female_age4_2015\n",
      "un_female_age5_2015\n",
      "un_female_age6_2015\n",
      "un_female_age7_2015\n",
      "un_female_age8_2015\n",
      "un_female_age9_2015\n",
      "un_female_age10_2015\n",
      "un_female_age11_2015\n",
      "un_female_age12_2015\n",
      "un_female_age13_2015\n",
      "un_female_age14_2015\n",
      "un_female_age15_2015\n",
      "un_female_age16_2015\n",
      "un_total_age0_2015\n",
      "un_total_age1_2015\n",
      "un_total_age2_2015\n",
      "un_total_age3_2015\n",
      "un_total_age4_2015\n",
      "un_total_age5_2015\n",
      "un_total_age6_2015\n",
      "un_total_age7_2015\n",
      "un_total_age8_2015\n",
      "un_total_age9_2015\n",
      "un_total_age10_2015\n",
      "un_total_age11_2015\n",
      "un_total_age12_2015\n",
      "un_total_age13_2015\n",
      "un_total_age14_2015\n",
      "un_total_age15_2015\n",
      "un_total_age16_2015\n",
      "un_male_age0_2017\n",
      "un_male_age1_2017\n",
      "un_male_age2_2017\n",
      "un_male_age3_2017\n",
      "un_male_age4_2017\n",
      "un_male_age5_2017\n",
      "un_male_age6_2017\n",
      "un_male_age7_2017\n",
      "un_male_age8_2017\n",
      "un_male_age9_2017\n",
      "un_male_age10_2017\n",
      "un_male_age11_2017\n",
      "un_male_age12_2017\n",
      "un_male_age13_2017\n",
      "un_male_age14_2017\n",
      "un_male_age15_2017\n",
      "un_male_age16_2017\n",
      "un_female_age0_2017\n",
      "un_female_age1_2017\n",
      "un_female_age2_2017\n",
      "un_female_age3_2017\n",
      "un_female_age4_2017\n",
      "un_female_age5_2017\n",
      "un_female_age6_2017\n",
      "un_female_age7_2017\n",
      "un_female_age8_2017\n",
      "un_female_age9_2017\n",
      "un_female_age10_2017\n",
      "un_female_age11_2017\n",
      "un_female_age12_2017\n",
      "un_female_age13_2017\n",
      "un_female_age14_2017\n",
      "un_female_age15_2017\n",
      "un_female_age16_2017\n",
      "un_total_age0_2017\n",
      "un_total_age1_2017\n",
      "un_total_age2_2017\n",
      "un_total_age3_2017\n",
      "un_total_age4_2017\n",
      "un_total_age5_2017\n",
      "un_total_age6_2017\n",
      "un_total_age7_2017\n",
      "un_total_age8_2017\n",
      "un_total_age9_2017\n",
      "un_total_age10_2017\n",
      "un_total_age11_2017\n",
      "un_total_age12_2017\n",
      "un_total_age13_2017\n",
      "un_total_age14_2017\n",
      "un_total_age15_2017\n",
      "un_total_age16_2017\n"
     ]
    }
   ],
   "source": [
    "age_groups = sorted(list(set(un_df['age_group'])))\n",
    "sex = list(set(un_df['sex']))\n",
    "years = [2015, 2017]\n",
    "for y, year in enumerate(years): \n",
    "    for i, s in enumerate(sex):\n",
    "        for index, age in enumerate(age_groups):\n",
    "            if s == 'both sexes':\n",
    "                s_col = 'total'\n",
    "                column_name = 'un_{0}_age{1}_{2}'.format(s_col, index, year)\n",
    "            else:\n",
    "                column_name = 'un_{0}_age{1}_{2}'.format(sex[i], index, year) \n",
    "            print(column_name)\n",
    "            col = un_df[(un_df['age_group'] == age) & (un_df['sex'] == s) & (un_df['year'] == year)]['migrant_pop']\n",
    "            fb_df[column_name] = list(col)"
   ]
  },
  {
   "cell_type": "code",
   "execution_count": 6,
   "metadata": {},
   "outputs": [],
   "source": [
    "fb_df['migrant_2019'] = list(un_df[(un_df['year'] == 2019) & (un_df['sex'] == 'both sexes') & (un_df['age_group'] == 'Total')]['migrant_pop'])"
   ]
  },
  {
   "cell_type": "code",
   "execution_count": 7,
   "metadata": {},
   "outputs": [],
   "source": [
    "fb_df.to_csv('facebook_un_combined.csv', index=False)"
   ]
  },
  {
   "cell_type": "code",
   "execution_count": null,
   "metadata": {},
   "outputs": [],
   "source": []
  }
 ],
 "metadata": {
  "kernelspec": {
   "display_name": "Python 3",
   "language": "python",
   "name": "python3"
  },
  "language_info": {
   "codemirror_mode": {
    "name": "ipython",
    "version": 3
   },
   "file_extension": ".py",
   "mimetype": "text/x-python",
   "name": "python",
   "nbconvert_exporter": "python",
   "pygments_lexer": "ipython3",
   "version": "3.8.5"
  }
 },
 "nbformat": 4,
 "nbformat_minor": 4
}
