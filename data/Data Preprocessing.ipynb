{
 "cells": [
  {
   "cell_type": "code",
   "execution_count": 1,
   "metadata": {},
   "outputs": [],
   "source": [
    "import pandas as pd\n",
    "import numpy as np"
   ]
  },
  {
   "cell_type": "code",
   "execution_count": 2,
   "metadata": {},
   "outputs": [],
   "source": [
    "un_df = pd.read_csv('UN_data_clean.csv')\n",
    "fb_df = pd.read_csv('facebookData.csv')"
   ]
  },
  {
   "cell_type": "code",
   "execution_count": 3,
   "metadata": {},
   "outputs": [],
   "source": [
    "# normalize so it is the same set of countries used\n",
    "fb_remove = set(fb_df['iso']).intersection(set(fb_df['iso']) ^ set(un_df['country_code']))\n",
    "un_remove = list(set(un_df['country_code']).intersection(set(fb_df['iso']) ^ set(un_df['country_code'])))\n",
    "un_df = un_df[~un_df['country_code'].isin(un_remove)]\n",
    "fb_df = fb_df[~fb_df['iso'].isin(fb_remove)]"
   ]
  },
  {
   "cell_type": "code",
   "execution_count": 4,
   "metadata": {},
   "outputs": [
    {
     "data": {
      "text/plain": [
       "True"
      ]
     },
     "execution_count": 4,
     "metadata": {},
     "output_type": "execute_result"
    }
   ],
   "source": [
    "# sort by iso\n",
    "un_df = un_df.sort_values(['country_code'])\n",
    "fb_df = fb_df.sort_values(['iso'])\n",
    "set(un_df['country_code'].tolist()) == set(fb_df['iso'].tolist()) # check to make sure country codes are the same"
   ]
  },
  {
   "cell_type": "code",
   "execution_count": 5,
   "metadata": {},
   "outputs": [
    {
     "name": "stdout",
     "output_type": "stream",
     "text": [
      "un_expat_total_age0_2015\n",
      "un_expat_total_age1_2015\n",
      "un_expat_total_age2_2015\n",
      "un_expat_total_age3_2015\n",
      "un_expat_total_age4_2015\n",
      "un_expat_total_age5_2015\n",
      "un_expat_total_age6_2015\n",
      "un_expat_total_age7_2015\n",
      "un_expat_total_age8_2015\n",
      "un_expat_total_age9_2015\n",
      "un_expat_total_age10_2015\n",
      "un_expat_total_age11_2015\n",
      "un_expat_total_age12_2015\n",
      "un_expat_total_age13_2015\n",
      "un_expat_total_age14_2015\n",
      "un_expat_total_age15_2015\n",
      "un_expat_total_age16_2015\n",
      "un_expat_female_age0_2015\n",
      "un_expat_female_age1_2015\n",
      "un_expat_female_age2_2015\n",
      "un_expat_female_age3_2015\n",
      "un_expat_female_age4_2015\n",
      "un_expat_female_age5_2015\n",
      "un_expat_female_age6_2015\n",
      "un_expat_female_age7_2015\n",
      "un_expat_female_age8_2015\n",
      "un_expat_female_age9_2015\n",
      "un_expat_female_age10_2015\n",
      "un_expat_female_age11_2015\n",
      "un_expat_female_age12_2015\n",
      "un_expat_female_age13_2015\n",
      "un_expat_female_age14_2015\n",
      "un_expat_female_age15_2015\n",
      "un_expat_female_age16_2015\n",
      "un_expat_male_age0_2015\n",
      "un_expat_male_age1_2015\n",
      "un_expat_male_age2_2015\n",
      "un_expat_male_age3_2015\n",
      "un_expat_male_age4_2015\n",
      "un_expat_male_age5_2015\n",
      "un_expat_male_age6_2015\n",
      "un_expat_male_age7_2015\n",
      "un_expat_male_age8_2015\n",
      "un_expat_male_age9_2015\n",
      "un_expat_male_age10_2015\n",
      "un_expat_male_age11_2015\n",
      "un_expat_male_age12_2015\n",
      "un_expat_male_age13_2015\n",
      "un_expat_male_age14_2015\n",
      "un_expat_male_age15_2015\n",
      "un_expat_male_age16_2015\n",
      "un_expat_total_age0_2017\n",
      "un_expat_total_age1_2017\n",
      "un_expat_total_age2_2017\n",
      "un_expat_total_age3_2017\n",
      "un_expat_total_age4_2017\n",
      "un_expat_total_age5_2017\n",
      "un_expat_total_age6_2017\n",
      "un_expat_total_age7_2017\n",
      "un_expat_total_age8_2017\n",
      "un_expat_total_age9_2017\n",
      "un_expat_total_age10_2017\n",
      "un_expat_total_age11_2017\n",
      "un_expat_total_age12_2017\n",
      "un_expat_total_age13_2017\n",
      "un_expat_total_age14_2017\n",
      "un_expat_total_age15_2017\n",
      "un_expat_total_age16_2017\n",
      "un_expat_female_age0_2017\n",
      "un_expat_female_age1_2017\n",
      "un_expat_female_age2_2017\n",
      "un_expat_female_age3_2017\n",
      "un_expat_female_age4_2017\n",
      "un_expat_female_age5_2017\n",
      "un_expat_female_age6_2017\n",
      "un_expat_female_age7_2017\n",
      "un_expat_female_age8_2017\n",
      "un_expat_female_age9_2017\n",
      "un_expat_female_age10_2017\n",
      "un_expat_female_age11_2017\n",
      "un_expat_female_age12_2017\n",
      "un_expat_female_age13_2017\n",
      "un_expat_female_age14_2017\n",
      "un_expat_female_age15_2017\n",
      "un_expat_female_age16_2017\n",
      "un_expat_male_age0_2017\n",
      "un_expat_male_age1_2017\n",
      "un_expat_male_age2_2017\n",
      "un_expat_male_age3_2017\n",
      "un_expat_male_age4_2017\n",
      "un_expat_male_age5_2017\n",
      "un_expat_male_age6_2017\n",
      "un_expat_male_age7_2017\n",
      "un_expat_male_age8_2017\n",
      "un_expat_male_age9_2017\n",
      "un_expat_male_age10_2017\n",
      "un_expat_male_age11_2017\n",
      "un_expat_male_age12_2017\n",
      "un_expat_male_age13_2017\n",
      "un_expat_male_age14_2017\n",
      "un_expat_male_age15_2017\n",
      "un_expat_male_age16_2017\n"
     ]
    }
   ],
   "source": [
    "age_groups = sorted(list(set(un_df['age_group'])))\n",
    "sex = list(set(un_df['sex']))\n",
    "years = [2015, 2017]\n",
    "for y, year in enumerate(years): \n",
    "    for i, s in enumerate(sex):\n",
    "        for index, age in enumerate(age_groups):\n",
    "            if s == 'both sexes':\n",
    "                s_col = 'total'\n",
    "                column_name = 'un_expat_{0}_age{1}_{2}'.format(s_col, index, year)\n",
    "            else:\n",
    "                column_name = 'un_expat_{0}_age{1}_{2}'.format(sex[i], index, year) \n",
    "            print(column_name)\n",
    "            col = un_df[(un_df['age_group'] == age) & (un_df['sex'] == s) & (un_df['year'] == year)]['migrant_pop']\n",
    "            fb_df[column_name] = list(col)"
   ]
  },
  {
   "cell_type": "code",
   "execution_count": 6,
   "metadata": {},
   "outputs": [
    {
     "name": "stdout",
     "output_type": "stream",
     "text": [
      "un_total_2019\n",
      "un_total_female_2019\n",
      "un_total_male_2019\n"
     ]
    }
   ],
   "source": [
    "# match the FB total categories for 2019 total population\n",
    "sex = list(set(un_df['sex']))\n",
    "years = [2019]\n",
    "age_groups = ['Total']\n",
    "for y, year in enumerate(years): \n",
    "    for i, s in enumerate(sex):\n",
    "        if s == 'both sexes':\n",
    "            column_name = 'un_total_{0}'.format(year)\n",
    "        else:\n",
    "            column_name = 'un_total_{0}_{1}'.format(sex[i], year) \n",
    "        col = un_df[(un_df['age_group'] == age_groups[0]) & (un_df['sex'] == s) & (un_df['year'] == year)]['total_pop_2019']\n",
    "        print(column_name)\n",
    "        fb_df[column_name] = list(col)"
   ]
  },
  {
   "cell_type": "code",
   "execution_count": 7,
   "metadata": {},
   "outputs": [
    {
     "name": "stdout",
     "output_type": "stream",
     "text": [
      "un_total_age0_2019\n",
      "un_total_age1_2019\n",
      "un_total_age2_2019\n",
      "un_total_age3_2019\n",
      "un_total_age4_2019\n",
      "un_total_age5_2019\n",
      "un_total_age6_2019\n",
      "un_total_age7_2019\n",
      "un_total_age8_2019\n",
      "un_total_age9_2019\n",
      "un_total_female_age0_2019\n",
      "un_total_female_age1_2019\n",
      "un_total_female_age2_2019\n",
      "un_total_female_age3_2019\n",
      "un_total_female_age4_2019\n",
      "un_total_female_age5_2019\n",
      "un_total_female_age6_2019\n",
      "un_total_female_age7_2019\n",
      "un_total_female_age8_2019\n",
      "un_total_female_age9_2019\n",
      "un_total_male_age0_2019\n",
      "un_total_male_age1_2019\n",
      "un_total_male_age2_2019\n",
      "un_total_male_age3_2019\n",
      "un_total_male_age4_2019\n",
      "un_total_male_age5_2019\n",
      "un_total_male_age6_2019\n",
      "un_total_male_age7_2019\n",
      "un_total_male_age8_2019\n",
      "un_total_male_age9_2019\n"
     ]
    }
   ],
   "source": [
    "# get UN data for total population \n",
    "age_groups = ['15-19', '20-24', '25-29', '30-34', '35-39', '40-44', '45-49', '50-54', '55-59', '60-64']\n",
    "sex = list(set(un_df['sex']))\n",
    "years = [2019]\n",
    "for y, year in enumerate(years): \n",
    "    for i, s in enumerate(sex):\n",
    "        for index, age in enumerate(age_groups):\n",
    "            if s == 'both sexes':\n",
    "                column_name = 'un_total_age{0}_{1}'.format(index, year)\n",
    "            else:\n",
    "                column_name = 'un_total_{0}_age{1}_{2}'.format(sex[i], index, year) \n",
    "            print(column_name)\n",
    "            col = un_df[(un_df['age_group'] == age) & (un_df['sex'] == s) & (un_df['year'] == year)]['total_pop_2019']\n",
    "            fb_df[column_name] = list(col)"
   ]
  },
  {
   "cell_type": "code",
   "execution_count": 8,
   "metadata": {},
   "outputs": [
    {
     "name": "stdout",
     "output_type": "stream",
     "text": [
      "un_total_age10_2019\n",
      "un_total_female_age10_2019\n",
      "un_total_male_age10_2019\n"
     ]
    }
   ],
   "source": [
    "# match the FB 65+ category\n",
    "age_groups = ['65-69', '70-74', '75+']\n",
    "sex = list(set(un_df['sex']))\n",
    "years = [2019]\n",
    "for y, year in enumerate(years): \n",
    "    for i, s in enumerate(sex):\n",
    "        if s == 'both sexes':\n",
    "            column_name = 'un_total_age{0}_{1}'.format(10, year)\n",
    "        else:\n",
    "            column_name = 'un_total_{0}_age{1}_{2}'.format(sex[i], 10, year) \n",
    "        col_1 = un_df[(un_df['age_group'] == age_groups[0]) & (un_df['sex'] == s) & (un_df['year'] == year)]['total_pop_2019']\n",
    "        col_2 = un_df[(un_df['age_group'] == age_groups[1]) & (un_df['sex'] == s) & (un_df['year'] == year)]['total_pop_2019']\n",
    "        col_3 = un_df[(un_df['age_group'] == age_groups[2]) & (un_df['sex'] == s) & (un_df['year'] == year)]['total_pop_2019']\n",
    "        col = col_1.values + col_2.values + col_3.values\n",
    "        print(column_name)\n",
    "        fb_df[column_name] = col"
   ]
  },
  {
   "cell_type": "code",
   "execution_count": 9,
   "metadata": {},
   "outputs": [],
   "source": [
    "# FB penetration for age-sex\n",
    "sex = list(set(un_df['sex']))\n",
    "years = [2019]\n",
    "age_groups = ['Total']\n",
    "for y, year in enumerate(years): \n",
    "    for i, s in enumerate(sex):\n",
    "        if s == 'both sexes':\n",
    "            fb_total = 'total'\n",
    "            un_total = 'un_total_{0}'.format(year)\n",
    "            column_name = 'penetration_total'\n",
    "        else:\n",
    "            fb_total = s\n",
    "            un_total = 'un_total_{0}_{1}'.format(s, year) \n",
    "            column_name = 'penetration_{0}'.format(s)\n",
    "        penetration = fb_df[fb_total].values / fb_df[un_total].values\n",
    "        penetration[penetration > 1] = 1\n",
    "        fb_df[column_name] = penetration\n",
    "        \n",
    "age_groups = np.arange(11)        \n",
    "for y, year in enumerate(years): \n",
    "    for i, s in enumerate(sex):\n",
    "        for index, age in enumerate(age_groups):\n",
    "            if s == 'both sexes':\n",
    "                fb_total = 'total_age{0}'.format(age)\n",
    "                un_total = 'un_total_age{0}_{1}'.format(age, year)\n",
    "                col_name = 'penetration_total_age{0}'.format(age)\n",
    "            else: \n",
    "                fb_total = '{0}_age{1}'.format(s, age)\n",
    "                un_total = 'un_total_{0}_age{1}_{2}'.format(s, age, year)\n",
    "                col_name = 'penetration_{0}_age{1}'.format(s, age)\n",
    "\n",
    "            penetration = fb_df[fb_total].values / fb_df[un_total].values\n",
    "            penetration[penetration > 1] = 1\n",
    "            fb_df[col_name] = penetration"
   ]
  },
  {
   "cell_type": "code",
   "execution_count": 10,
   "metadata": {},
   "outputs": [],
   "source": [
    "# expat normalized \n",
    "sexes = ['total', 'male', 'female']\n",
    "ages = np.arange(11)\n",
    "for sex in sexes:\n",
    "    expat_name = '{0}_expat'.format(sex)\n",
    "    penetration_name = 'penetration_{0}'.format(sex)\n",
    "    expat_normalized = fb_df[expat_name].values / fb_df[penetration_name].values\n",
    "    col_name = '{0}_expat_normalized'.format(sex)\n",
    "    fb_df[col_name] = expat_normalized \n",
    "        \n",
    "for sex in sexes:\n",
    "    for age in ages:\n",
    "        expat_name = '{0}_expat_age{1}'.format(sex, age)\n",
    "        if sex == 'total':\n",
    "            penetration_name = 'penetration_{0}_age{1}'.format(sex, age)\n",
    "        else:\n",
    "            penetration_name = 'penetration_{0}_age{1}'.format(sex, age)\n",
    "        expat_normalized = fb_df[expat_name].values / fb_df[penetration_name].values\n",
    "        col_name = '{0}_expat_age{1}_normalized'.format(sex, age)\n",
    "        fb_df[col_name] = expat_normalized"
   ]
  },
  {
   "cell_type": "code",
   "execution_count": 11,
   "metadata": {},
   "outputs": [],
   "source": [
    "fb_df['development_lvl'] = list((un_df[(un_df['year'] == 2019) & (un_df['sex'] == 'both sexes') & (un_df['age_group'] == 'Total')]['un_development_lvl'] == 'More Developed Regions') * 1)"
   ]
  },
  {
   "cell_type": "code",
   "execution_count": 12,
   "metadata": {},
   "outputs": [],
   "source": [
    "fb_df['migrant_2019'] = list(un_df[(un_df['year'] == 2019) & (un_df['sex'] == 'both sexes') & (un_df['age_group'] == 'Total')]['migrant_pop'])"
   ]
  },
  {
   "cell_type": "code",
   "execution_count": 13,
   "metadata": {},
   "outputs": [],
   "source": [
    "fb_df.to_csv('facebook_un_combined.csv', index=False)"
   ]
  }
 ],
 "metadata": {
  "kernelspec": {
   "display_name": "Python 3",
   "language": "python",
   "name": "python3"
  },
  "language_info": {
   "codemirror_mode": {
    "name": "ipython",
    "version": 3
   },
   "file_extension": ".py",
   "mimetype": "text/x-python",
   "name": "python",
   "nbconvert_exporter": "python",
   "pygments_lexer": "ipython3",
   "version": "3.8.5"
  }
 },
 "nbformat": 4,
 "nbformat_minor": 4
}
