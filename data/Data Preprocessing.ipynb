{
 "cells": [
  {
   "cell_type": "code",
   "execution_count": 80,
   "metadata": {},
   "outputs": [],
   "source": [
    "import pandas as pd"
   ]
  },
  {
   "cell_type": "code",
   "execution_count": 127,
   "metadata": {},
   "outputs": [],
   "source": [
    "un_df = pd.read_csv('UN_data_clean.csv')\n",
    "fb_df = pd.read_csv('facebookData.csv')"
   ]
  },
  {
   "cell_type": "code",
   "execution_count": 128,
   "metadata": {},
   "outputs": [],
   "source": [
    "# normalize so it is the same set of countries used\n",
    "fb_remove = set(fb_df['iso']).intersection(set(fb_df['iso']) ^ set(un_df['country_code']))\n",
    "un_remove = list(set(un_df['country_code']).intersection(set(fb_df['iso']) ^ set(un_df['country_code'])))\n",
    "un_df = un_df[~un_df['country_code'].isin(un_remove)]\n",
    "fb_df = fb_df[~fb_df['iso'].isin(fb_remove)]"
   ]
  },
  {
   "cell_type": "code",
   "execution_count": 129,
   "metadata": {},
   "outputs": [
    {
     "data": {
      "text/plain": [
       "True"
      ]
     },
     "execution_count": 129,
     "metadata": {},
     "output_type": "execute_result"
    }
   ],
   "source": [
    "# sort by iso\n",
    "un_df = un_df.sort_values(['country_code'])\n",
    "fb_df = fb_df.sort_values(['iso'])\n",
    "set(un_df['country_code'].tolist()) == set(fb_df['iso'].tolist()) # check to make sure country codes are the same"
   ]
  },
  {
   "cell_type": "code",
   "execution_count": 135,
   "metadata": {},
   "outputs": [],
   "source": [
    "age_groups = sorted(list(set(un_df['age_group'])))\n",
    "sex = list(set(un_df['sex']))\n",
    "years = [2015, 2017]\n",
    "for y, year in enumerate(years): \n",
    "    for i, s in enumerate(sex):\n",
    "        for index, age in enumerate(age_groups):\n",
    "            if i == 0:\n",
    "                s_col = 'total'\n",
    "                column_name = 'un_{0}_age{1}_{2}'.format(s_col, index, year)\n",
    "            else:\n",
    "                column_name = 'un_{0}_age{1}_{2}'.format(sex[i], index, year) \n",
    "            col = un_df[(un_df['age_group'] == age) & (un_df['sex'] == s) & (un_df['year'] == year)]['migrant_pop']\n",
    "            fb_df[column_name] = list(col)"
   ]
  },
  {
   "cell_type": "code",
   "execution_count": 136,
   "metadata": {},
   "outputs": [],
   "source": [
    "fb_df.to_csv('facebook_un_combined.csv', index=False)"
   ]
  }
 ],
 "metadata": {
  "kernelspec": {
   "display_name": "Python 3",
   "language": "python",
   "name": "python3"
  },
  "language_info": {
   "codemirror_mode": {
    "name": "ipython",
    "version": 3
   },
   "file_extension": ".py",
   "mimetype": "text/x-python",
   "name": "python",
   "nbconvert_exporter": "python",
   "pygments_lexer": "ipython3",
   "version": "3.8.5"
  }
 },
 "nbformat": 4,
 "nbformat_minor": 4
}
